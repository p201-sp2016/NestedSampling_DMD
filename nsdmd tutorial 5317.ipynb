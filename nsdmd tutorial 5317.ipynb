{
 "cells": [
  {
   "cell_type": "markdown",
   "metadata": {},
   "source": [
    "## nsdmd tutorial\n",
    "\n",
    "Author: Jun Yin, Daniya Seitova\n",
    "\n",
    "This notebook is a brief introduction to doing Bayesian inference on dark matter distribution models. The package is used to do model comparison on four Dark Matter density profiles: NFW profile, Isothermal profile, Einasto profile and Generalized DM profile by comparing their log evidence in fitting rotational velocity cruve. \n",
    "This tutorial gives an example of the calculation of NFW file. We use the density file with unknown parameters to calculate the enclosing mass and the corresponding rotational velocity. The package is designed to read in the data file, which contains r,v and dv and then use the nestle package to sample the posterior distribution of model parameters given the data."
   ]
  },
  {
   "cell_type": "markdown",
   "metadata": {},
   "source": [
    "### Getting started\n",
    "\n",
    "First, import the package. This assumes that the package is already downloaded and installed.\n",
    "If you need to download and install the package, please see the readme on the github page."
   ]
  },
  {
   "cell_type": "code",
   "execution_count": null,
   "metadata": {
    "collapsed": true
   },
   "outputs": [],
   "source": [
    "from nsdmd import model \n",
    "from nsdmd import io"
   ]
  },
  {
   "cell_type": "markdown",
   "metadata": {},
   "source": [
    "We will also import other standard packages that we need for nsdmd package to run. They should have been installed if the installation of the nsdmd package went well."
   ]
  },
  {
   "cell_type": "code",
   "execution_count": 1,
   "metadata": {
    "collapsed": true
   },
   "outputs": [],
   "source": [
    "import numpy as np\n",
    "import nestle\n",
    "import math\n",
    "import matplotlib.pyplot as plt\n",
    "import matplotlib.animation as animation\n",
    "import corner\n",
    "from scipy.integrate import quad"
   ]
  },
  {
   "cell_type": "markdown",
   "metadata": {},
   "source": [
    "### Importing data \n",
    "\n",
    "You will have the data that consists of 3 arrays.\n",
    "The package supports data in a simple [x, y, z] format where x is a numpy array of the x values and y is a numpy array of the y values and z is a numpy array of the z values.\n"
   ]
  },
  {
   "cell_type": "code",
   "execution_count": 3,
   "metadata": {
    "collapsed": true
   },
   "outputs": [],
   "source": [
    "# The data will be used in this project is the measured rotational speed of \n",
    "#    the interstellar medium in our local galaxy, as shown in the following figure. \n",
    "# Reference 1: Bhattacharjee et. al.\n",
    "    \n",
    "#load data\n",
    "data_x,data_xerr,data_y,data_yerr =io.load_data('dataref1.txt')"
   ]
  },
  {
   "cell_type": "markdown",
   "metadata": {},
   "source": [
    "### Visualizing the data"
   ]
  },
  {
   "cell_type": "code",
   "execution_count": 5,
   "metadata": {
    "collapsed": false,
    "scrolled": false
   },
   "outputs": [
    {
     "data": {
      "text/plain": [
       "<matplotlib.figure.Figure at 0x10c5816d8>"
      ]
     },
     "metadata": {},
     "output_type": "display_data"
    },
    {
     "data": {
      "image/png": "[encoded data removed]",
      "text/plain": [
       "<matplotlib.figure.Figure at 0x10e89a828>"
      ]
     },
     "metadata": {},
     "output_type": "display_data"
    }
   ],
   "source": [
    "plt.figure()\n",
    "plt.errorbar(data_x,data_y,xerr=data_xerr,yerr=data_yerr,fmt='*')\n",
    "plt.xlabel(\"r (kpc)\")\n",
    "plt.ylabel('V (km/s)')\n",
    "plt.title(\"The measured rotational speed of the interstellar medium as a fucntion of the galactocentric radius\")\n",
    "plt.show()"
   ]
  },
  {
   "cell_type": "markdown",
   "metadata": {},
   "source": [
    "### Nestle"
   ]
  },
  {
   "cell_type": "markdown",
   "metadata": {},
   "source": [
    "We would like to estimate the parameters of the model that fit the data. To do this, we will do Bayesian parameter estimation by nested sampling algorithms in Nestle package.\n",
    "\n",
    "Nested Sampling is a computational approach for integrating posterior\n",
    "probability in order to compare models in Bayesian statistics. It is similar\n",
    "to Markov Chain Monte Carlo (MCMC) in that it generates samples that can be\n",
    "used to estimate the posterior probability distribution. Unlike MCMC, the\n",
    "nature of the sampling also allows one to calculate the integral of the\n",
    "distribution. \n",
    "\n",
    "The reason Nested Sampling is more appropriate for this project than MCMC is\n",
    "Nested Sampling has the advantage that it calculates the evidence (integral\n",
    "of the posterior) and this way you can compare different models. It is good\n",
    "for sampling posterior distributions with strong dependence between\n",
    "variables. Another advantage of Nested Sampling is that you don’t have to\n",
    "know where MLE is, while using MCMC we would have to normalize to compare\n",
    "our models since our models have different number of degrees of freedom. \n",
    "\n",
    "For more information, see the Nestle package documentation."
   ]
  },
  {
   "cell_type": "code",
   "execution_count": null,
   "metadata": {
    "collapsed": true
   },
   "outputs": [],
   "source": [
    "print(model.sample.__doc__)"
   ]
  },
  {
   "cell_type": "markdown",
   "metadata": {},
   "source": [
    "### Defining the model\n",
    "\n",
    "In our package we can compare 4 Dark Matter Density models: NFW, Einasto, Isothermal and Generalized model, which you can select as model_NFW, model_Einasto etc.\n",
    "\n",
    "### Defining the prior\n",
    "\n",
    "In our package we have different flat priors for each Dark Matter Density model, which you can select as prior_transform_NFW, prior_transform_Einasto etc."
   ]
  },
  {
   "cell_type": "code",
   "execution_count": null,
   "metadata": {
    "collapsed": true
   },
   "outputs": [],
   "source": [
    "# NewModel.results_NFW (loglike_NFW, prior_transform_NFW,'filename' ,[a,b])  # a,b limits prior  \n",
    "model.sample (model.loglike_NFW, model.prior_transform_NFW, 'dataref1.txt',[10,500])"
   ]
  },
  {
   "cell_type": "markdown",
   "metadata": {},
   "source": [
    "[add plot of NFW fit]"
   ]
  },
  {
   "cell_type": "code",
   "execution_count": null,
   "metadata": {
    "collapsed": true
   },
   "outputs": [],
   "source": []
  },
  {
   "cell_type": "code",
   "execution_count": null,
   "metadata": {
    "collapsed": true
   },
   "outputs": [],
   "source": []
  },
  {
   "cell_type": "code",
   "execution_count": null,
   "metadata": {
    "collapsed": true
   },
   "outputs": [],
   "source": []
  }
 ],
 "metadata": {
  "kernelspec": {
   "display_name": "Python [py35]",
   "language": "python",
   "name": "Python [py35]"
  },
  "language_info": {
   "codemirror_mode": {
    "name": "ipython",
    "version": 3
   },
   "file_extension": ".py",
   "mimetype": "text/x-python",
   "name": "python",
   "nbconvert_exporter": "python",
   "pygments_lexer": "ipython3",
   "version": "3.5.2"
  }
 },
 "nbformat": 4,
 "nbformat_minor": 0
}
