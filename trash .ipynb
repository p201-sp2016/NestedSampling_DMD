{
 "cells": [
  {
   "cell_type": "code",
   "execution_count": 1,
   "metadata": {
    "collapsed": true
   },
   "outputs": [],
   "source": [
    "from nsdmd import model "
   ]
  },
  {
   "cell_type": "code",
   "execution_count": 2,
   "metadata": {
    "collapsed": false
   },
   "outputs": [
    {
     "name": "stdout",
     "output_type": "stream",
     "text": [
      "\n",
      "The function runs nested sampling. The function can be run on 4 different models. The user just needs to specify the model's loglikelihood and prior. \n",
      "----------    \n",
      "The following input parameters are required:\n",
      "    \n",
      "loglike_model: function calculates likelihood. The name of the loglike_model needs to be specified. \n",
      "prior_transform_model: function calculates the prior. The name of the prior transformation function needs to be specified. \n",
      "datafile: datafile with format has been discussed in above. \n",
      "priorRange: an array which specifies the limits of unifrom prior for different parameters eg: priorRange =[rangeForTheta[0],rangeForTheta[1],...]\n",
      "  \n",
      "----------\n",
      "Here are some example commands for running the fuction for 4 different models.    \n",
      "\n",
      "    model.sample (model.loglike_NFW, model.prior_transform_NFW, 'dataref1.txt',[10,10E10])\n",
      "    model.sample (model.loglike_ISO, model.prior_transform_ISO, 'dataref1.txt',[10,10E10])\n",
      "    model.sample (model.loglike_Einasto, model.prior_transform_Einasto, 'dataref1.txt',[10,10,10E10])\n",
      "    model.sample (model.loglike_GeneralizedHalo, model.prior_transform_GeneralizedHalo, 'dataref1.txt',[5.,10.,4.,1.5,5E8])\n",
      "-----------\n",
      "    \n",
      " \n",
      "    \n"
     ]
    }
   ],
   "source": [
    "print(model.sample.__doc__)"
   ]
  },
  {
   "cell_type": "code",
   "execution_count": null,
   "metadata": {
    "collapsed": true
   },
   "outputs": [],
   "source": []
  },
  {
   "cell_type": "code",
   "execution_count": null,
   "metadata": {
    "collapsed": true
   },
   "outputs": [],
   "source": []
  },
  {
   "cell_type": "code",
   "execution_count": null,
   "metadata": {
    "collapsed": true
   },
   "outputs": [],
   "source": []
  },
  {
   "cell_type": "code",
   "execution_count": null,
   "metadata": {
    "collapsed": true
   },
   "outputs": [],
   "source": []
  },
  {
   "cell_type": "code",
   "execution_count": null,
   "metadata": {
    "collapsed": true
   },
   "outputs": [],
   "source": []
  },
  {
   "cell_type": "code",
   "execution_count": null,
   "metadata": {
    "collapsed": true
   },
   "outputs": [],
   "source": []
  },
  {
   "cell_type": "code",
   "execution_count": null,
   "metadata": {
    "collapsed": true
   },
   "outputs": [],
   "source": []
  },
  {
   "cell_type": "code",
   "execution_count": 3,
   "metadata": {
    "collapsed": false
   },
   "outputs": [
    {
     "ename": "SyntaxError",
     "evalue": "invalid syntax (<ipython-input-3-39ddf5ad72d3>, line 1)",
     "output_type": "error",
     "traceback": [
      "\u001b[0;36m  File \u001b[0;32m\"<ipython-input-3-39ddf5ad72d3>\"\u001b[0;36m, line \u001b[0;32m1\u001b[0m\n\u001b[0;31m    We would like to estimate the parameters of the model that fit the data. To do this, we will do Bayesian parameter estimation by nested sampling algorithms in Nestle package.\u001b[0m\n\u001b[0m           ^\u001b[0m\n\u001b[0;31mSyntaxError\u001b[0m\u001b[0;31m:\u001b[0m invalid syntax\n"
     ]
    }
   ],
   "source": [
    "We would like to estimate the parameters of the model that fit the data. To do this, we will do Bayesian parameter estimation by nested sampling algorithms in Nestle package.\n",
    "\n",
    "Nested Sampling is a computational approach for integrating posterior\n",
    "probability in order to compare models in Bayesian statistics. It is similar\n",
    "to Markov Chain Monte Carlo (MCMC) in that it generates samples that can be\n",
    "used to estimate the posterior probability distribution. Unlike MCMC, the\n",
    "nature of the sampling also allows one to calculate the integral of the\n",
    "distribution. \n",
    "\n",
    "\n",
    "The reason Nested Sampling is more appropriate for this project than MCMC is\n",
    "Nested Sampling has the advantage that it calculates the evidence (integral\n",
    "of the posterior) and this way you can compare different models. It is good\n",
    "for sampling posterior distributions with strong dependence between\n",
    "variables. Another advantage of Nested Sampling is that you don’t have to\n",
    "know where MLE is, while using MCMC we would have to normalize to compare\n",
    "our models since our models have different number of degrees of freedom. \n",
    "\n",
    "For more information, see the Nestle package documentation."
   ]
  },
  {
   "cell_type": "markdown",
   "metadata": {},
   "source": []
  },
  {
   "cell_type": "code",
   "execution_count": null,
   "metadata": {
    "collapsed": true
   },
   "outputs": [],
   "source": []
  }
 ],
 "metadata": {
  "anaconda-cloud": {},
  "kernelspec": {
   "display_name": "Python [conda root]",
   "language": "python",
   "name": "conda-root-py"
  },
  "language_info": {
   "codemirror_mode": {
    "name": "ipython",
    "version": 3
   },
   "file_extension": ".py",
   "mimetype": "text/x-python",
   "name": "python",
   "nbconvert_exporter": "python",
   "pygments_lexer": "ipython3",
   "version": "3.5.2"
  }
 },
 "nbformat": 4,
 "nbformat_minor": 1
}
