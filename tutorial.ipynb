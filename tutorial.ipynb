{
 "cells": [
  {
   "cell_type": "markdown",
   "metadata": {},
   "source": [
    "## nsdmd tutorial\n",
    "\n",
    "Author: Jun Yin, Daniya Seitova\n",
    "\n",
    "This notebook is a brief introduction to doing Bayesian inference on dark matter distribution models. The package is used to do model comparison on four Dark Matter density profiles: NFW profile, Isothermal profile, Einasto profile and Generalized DM profile by comparing their log evidence in fitting rotational velocity cruve. \n",
    "This tutorial gives an example of how to get the fitting parameters on different density profiles. "
   ]
  },
  {
   "cell_type": "markdown",
   "metadata": {},
   "source": [
    "### Getting started\n",
    "\n",
    "First, import the package. This assumes that the package is already downloaded and installed.\n",
    "If you need to download and install the package, please run setup.py."
   ]
  },
  {
   "cell_type": "code",
   "execution_count": 1,
   "metadata": {
    "collapsed": true
   },
   "outputs": [],
   "source": [
    "from nsdmd import model \n",
    "from nsdmd import io"
   ]
  },
  {
   "cell_type": "markdown",
   "metadata": {},
   "source": [
    "We will also import other standard packages that we need for nsdmd package to run. They should have been installed if the installation of the nsdmd package went well."
   ]
  },
  {
   "cell_type": "code",
   "execution_count": 2,
   "metadata": {
    "collapsed": true
   },
   "outputs": [],
   "source": [
    "import numpy as np\n",
    "import nestle\n",
    "import math\n",
    "import matplotlib.pyplot as plt\n",
    "import matplotlib.animation as animation\n",
    "import corner\n",
    "from scipy.integrate import quad\n",
    "\n",
    "import pandas as pd\n",
    "\n"
   ]
  },
  {
   "cell_type": "markdown",
   "metadata": {},
   "source": [
    "### Example of data \n",
    "\n",
    "The dataset contains 4 arrays, named as r, dr, v, dv. The arrays are seperated by ','. Here is an example dataset. Note that when you use the package, your data set should at leave have 5 data points. Because the model has up to 5 unknown parameters to be fitted. "
   ]
  },
  {
   "cell_type": "code",
   "execution_count": 3,
   "metadata": {
    "collapsed": false
   },
   "outputs": [
    {
     "data": {
      "text/html": [
       "<div>\n",
       "<table border=\"1\" class=\"dataframe\">\n",
       "  <thead>\n",
       "    <tr style=\"text-align: right;\">\n",
       "      <th></th>\n",
       "      <th>r</th>\n",
       "      <th>dr</th>\n",
       "      <th>v</th>\n",
       "      <th>dv</th>\n",
       "    </tr>\n",
       "  </thead>\n",
       "  <tbody>\n",
       "    <tr>\n",
       "      <th>0</th>\n",
       "      <td>3.20</td>\n",
       "      <td>0.232</td>\n",
       "      <td>197.0</td>\n",
       "      <td>7.79</td>\n",
       "    </tr>\n",
       "    <tr>\n",
       "      <th>1</th>\n",
       "      <td>3.52</td>\n",
       "      <td>0.251</td>\n",
       "      <td>201.0</td>\n",
       "      <td>7.97</td>\n",
       "    </tr>\n",
       "    <tr>\n",
       "      <th>2</th>\n",
       "      <td>3.87</td>\n",
       "      <td>0.282</td>\n",
       "      <td>207.0</td>\n",
       "      <td>10.10</td>\n",
       "    </tr>\n",
       "    <tr>\n",
       "      <th>3</th>\n",
       "      <td>4.26</td>\n",
       "      <td>0.306</td>\n",
       "      <td>211.0</td>\n",
       "      <td>8.43</td>\n",
       "    </tr>\n",
       "    <tr>\n",
       "      <th>4</th>\n",
       "      <td>4.69</td>\n",
       "      <td>0.349</td>\n",
       "      <td>209.0</td>\n",
       "      <td>6.87</td>\n",
       "    </tr>\n",
       "    <tr>\n",
       "      <th>5</th>\n",
       "      <td>5.15</td>\n",
       "      <td>0.355</td>\n",
       "      <td>208.0</td>\n",
       "      <td>8.38</td>\n",
       "    </tr>\n",
       "  </tbody>\n",
       "</table>\n",
       "</div>"
      ],
      "text/plain": [
       "      r     dr      v     dv\n",
       "0  3.20  0.232  197.0   7.79\n",
       "1  3.52  0.251  201.0   7.97\n",
       "2  3.87  0.282  207.0  10.10\n",
       "3  4.26  0.306  211.0   8.43\n",
       "4  4.69  0.349  209.0   6.87\n",
       "5  5.15  0.355  208.0   8.38"
      ]
     },
     "execution_count": 3,
     "metadata": {},
     "output_type": "execute_result"
    }
   ],
   "source": [
    "data_file = io.get_data_file_path('dataref2.txt')\n",
    "data=pd.read_csv(data_file)\n",
    "data[:6]\n"
   ]
  },
  {
   "cell_type": "markdown",
   "metadata": {},
   "source": [
    "### Visualizing the data"
   ]
  },
  {
   "cell_type": "code",
   "execution_count": 4,
   "metadata": {
    "collapsed": false,
    "scrolled": false
   },
   "outputs": [
    {
     "data": {
      "image/png": "[encoded data removed]",
      "text/plain": [
       "<matplotlib.figure.Figure at 0x117172668>"
      ]
     },
     "metadata": {},
     "output_type": "display_data"
    }
   ],
   "source": [
    "data_x,data_xerr,data_y,data_yerr=io.load_data(data_file)\n",
    "\n",
    "plt.figure()\n",
    "plt.errorbar(data_x,data_y,xerr=data_xerr,yerr=data_yerr,fmt='*')\n",
    "plt.xlabel(\"r (kpc)\")\n",
    "plt.ylabel('V (km/s)')\n",
    "plt.title(\"The measured rotational speed of the interstellar medium as a fucntion of the galactocentric radius\")\n",
    "plt.show()"
   ]
  },
  {
   "cell_type": "markdown",
   "metadata": {},
   "source": [
    "### Use the package "
   ]
  },
  {
   "cell_type": "markdown",
   "metadata": {},
   "source": [
    "To run the package, you need to call function model.sample( $ $ ), which takes in model name, dataset and prior. It outputs nastle sampling results. "
   ]
  },
  {
   "cell_type": "code",
   "execution_count": 5,
   "metadata": {
    "collapsed": false
   },
   "outputs": [
    {
     "name": "stdout",
     "output_type": "stream",
     "text": [
      "\n",
      "The function runs nested sampling. The function can be run on 4 different models. The user just needs to specify the model's loglikelihood and prior. \n",
      "----------    \n",
      "The following input parameters are required:\n",
      "    \n",
      "loglike_model: function calculates likelihood. The name of the loglike_model needs to be specified. \n",
      "prior_transform_model: function calculates the prior. The name of the prior transformation function needs to be specified. \n",
      "datafile: datafile with format has been discussed in above. \n",
      "priorRange: an array which specifies the limits of unifrom prior for different parameters eg: priorRange =[rangeForTheta[0],rangeForTheta[1],...]\n",
      "  \n",
      "----------\n",
      "Here are some example commands for running the fuction for 4 different models.    \n",
      "\n",
      "    model.sample (model.loglike_NFW, model.prior_transform_NFW, 'dataref1.txt',[10,10E10])\n",
      "    model.sample (model.loglike_ISO, model.prior_transform_ISO, 'dataref1.txt',[10,10E10])\n",
      "    model.sample (model.loglike_Einasto, model.prior_transform_Einasto, 'dataref1.txt',[10,10,10E10])\n",
      "    model.sample (model.loglike_GeneralizedHalo, model.prior_transform_GeneralizedHalo, 'dataref1.txt',[5.,10.,4.,1.5,5E8])\n",
      "-----------\n",
      "As shown above, different models take in different loglike_model, prior_transform_model and priorRange. \n",
      "\n",
      "For NFW model: \n",
      "loglike_model: it's named as 'model.loglike_NFW'\n",
      "prior_transform_model: it's named as 'model.prior_transform_NFW'\n",
      "datafile: any datafile that has the correct 4 columns format. \n",
      "priorRange: an arrange of 2 elements. Recommand to use [10,10e10]\n",
      "\n",
      "\n",
      "For ISO model: \n",
      "loglike_model: it's named as 'model.loglike_ISO'\n",
      "prior_transform_model: it's named as 'model.prior_transform_ISO'\n",
      "datafile: any datafile that has the correct 4 columns format. \n",
      "priorRange: an arrange of 2 elements. Recommand to use [10,10e10]\n",
      "\n",
      "For Einasto model: \n",
      "loglike_model: it's named as 'model.loglike_Einasto'\n",
      "prior_transform_model: it's named as 'model.prior_transform_Einasto'\n",
      "datafile: any datafile that has the correct 4 columns format. \n",
      "priorRange: an arrange of 3 elements. Recommand to use [10,10,10e10]\n",
      "\n",
      "For GeneralizedHalo model: \n",
      "loglike_model: it's named as 'model.loglike_GeneralizedHalo'\n",
      "prior_transform_model: it's named as 'model.prior_transform_GeneralizedHalo'\n",
      "datafile: any datafile that has the correct 4 columns format. \n",
      "priorRange: an arrange of 5 elements. Recommand to use [5.,10.,4.,1.5,5e8]\n",
      "\n",
      " \n",
      "    \n"
     ]
    }
   ],
   "source": [
    "print(model.sample.__doc__)\n"
   ]
  },
  {
   "cell_type": "markdown",
   "metadata": {},
   "source": [
    "One sampling exmaple is shown in below. "
   ]
  },
  {
   "cell_type": "code",
   "execution_count": 6,
   "metadata": {
    "collapsed": false
   },
   "outputs": [
    {
     "name": "stdout",
     "output_type": "stream",
     "text": [
      "log evidence\n",
      "-282.726726814\n",
      "numerical (sampling) error on logz\n",
      "0.35283512747312806\n",
      "array of sample parameters\n",
      "[[  9.76572755e+00   7.86031814e+10]\n",
      " [  8.90884916e+00   8.90384848e+10]\n",
      " [  9.66746457e+00   7.51843583e+10]\n",
      " ..., \n",
      " [  3.33499888e+00   5.43587160e+08]\n",
      " [  3.23159970e+00   5.80071642e+08]\n",
      " [  3.22630756e+00   5.81353260e+08]]\n",
      "array of weights associated with each sample\n",
      "[ 0.          0.          0.         ...,  0.00359687  0.00290148\n",
      "  0.0027578 ]\n"
     ]
    },
    {
     "data": {
      "text/plain": [
       "    logz: -282.72672681392379\n",
       " weights: array([ 0.        ,  0.        ,  0.        , ...,  0.00359687,\n",
       "        0.00290148,  0.0027578 ])\n",
       "   niter: 1432\n",
       " samples: array([[  9.76572755e+00,   7.86031814e+10],\n",
       "       [  8.90884916e+00,   8.90384848e+10],\n",
       "       [  9.66746457e+00,   7.51843583e+10],\n",
       "       ..., \n",
       "       [  3.33499888e+00,   5.43587160e+08],\n",
       "       [  3.23159970e+00,   5.80071642e+08],\n",
       "       [  3.22630756e+00,   5.81353260e+08]])\n",
       "   ncall: 40080\n",
       "  logvol: array([ -4.61016602,  -4.62016602,  -4.63016602, ..., -18.92517019,\n",
       "       -18.92517019, -18.92517019])\n",
       " logzerr: 0.35283512747312806\n",
       "       h: 12.449262717897852\n",
       "    logl: array([ -1.43413732e+08,  -1.39896393e+08,  -1.34694552e+08, ...,\n",
       "        -2.69429247e+02,  -2.69644092e+02,  -2.69694880e+02])"
      ]
     },
     "execution_count": 6,
     "metadata": {},
     "output_type": "execute_result"
    }
   ],
   "source": [
    "# sample (loglike_model, prior_transform_model, datafile,priorRange):\n",
    "\n",
    "model.sample (model.loglike_NFW, model.prior_transform_NFW, 'dataref1.txt',[10,10e10])"
   ]
  }
 ],
 "metadata": {
  "anaconda-cloud": {},
  "kernelspec": {
   "display_name": "Python [conda root]",
   "language": "python",
   "name": "conda-root-py"
  },
  "language_info": {
   "codemirror_mode": {
    "name": "ipython",
    "version": 3
   },
   "file_extension": ".py",
   "mimetype": "text/x-python",
   "name": "python",
   "nbconvert_exporter": "python",
   "pygments_lexer": "ipython3",
   "version": "3.5.2"
  }
 },
 "nbformat": 4,
 "nbformat_minor": 0
}
