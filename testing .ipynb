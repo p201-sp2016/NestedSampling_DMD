{
 "cells": [
  {
   "cell_type": "code",
   "execution_count": 1,
   "metadata": {
    "collapsed": true
   },
   "outputs": [],
   "source": [
    "import numpy as np\n",
    "import nestle\n",
    "import math\n",
    "\n",
    "import matplotlib.pyplot as plt\n",
    "import matplotlib.animation as animation\n",
    "\n",
    "import corner\n",
    "\n",
    "from scipy.integrate import quad\n",
    "\n",
    "from nsdmd import model \n",
    "from nsdmd import io\n",
    "\n",
    "import pandas as pd\n",
    "\n",
    "\n"
   ]
  },
  {
   "cell_type": "code",
   "execution_count": 2,
   "metadata": {
    "collapsed": false
   },
   "outputs": [
    {
     "data": {
      "text/plain": [
       "'/Users/margin/nsdmd/data/example_data.txt'"
      ]
     },
     "execution_count": 2,
     "metadata": {},
     "output_type": "execute_result"
    }
   ],
   "source": [
    "data_file = io.get_data_file_path('example_data.txt')\n",
    "data_file"
   ]
  },
  {
   "cell_type": "code",
   "execution_count": 3,
   "metadata": {
    "collapsed": false
   },
   "outputs": [
    {
     "data": {
      "text/plain": [
       "'/Users/margin/nsdmd/data/dataref1.txt'"
      ]
     },
     "execution_count": 3,
     "metadata": {},
     "output_type": "execute_result"
    }
   ],
   "source": [
    "data_file = io.get_data_file_path('dataref1.txt')\n",
    "data_file"
   ]
  },
  {
   "cell_type": "code",
   "execution_count": 4,
   "metadata": {
    "collapsed": false
   },
   "outputs": [
    {
     "data": {
      "text/plain": [
       "(array([   3.59,    4.51,    5.53,    7.56,    8.34,    6.5 ,    9.45,\n",
       "          10.5 ,   11.44,   12.51,   13.53,   14.59,   16.05,   18.64,\n",
       "          26.3 ,   28.26,   29.51,   32.04,   33.99,   36.49,   38.41,\n",
       "          40.42,   42.4 ,   44.49,   45.99,   48.06,   49.49,   51.39,\n",
       "          53.89,   56.89,   57.98,   60.92,   64.73,   69.31,   72.96,\n",
       "          76.95,   81.13,   84.9 ,   89.35,   92.44,   97.41,  100.72,\n",
       "         106.77,  119.98,  189.49]),\n",
       " array([0, 0, 0, 0, 0, 0, 0, 0, 0, 0, 0, 0, 0, 0, 0, 0, 0, 0, 0, 0, 0, 0, 0,\n",
       "        0, 0, 0, 0, 0, 0, 0, 0, 0, 0, 0, 0, 0, 0, 0, 0, 0, 0, 0, 0, 0, 0]),\n",
       " array([ 223.11,  247.88,  253.14,  267.8 ,  270.52,  270.95,  235.58,\n",
       "         249.72,  261.96,  284.3 ,  271.54,  251.43,  320.7 ,  286.46,\n",
       "         189.64,  237.99,  209.82,  179.14,  170.37,  175.92,  191.57,\n",
       "         197.59,  192.79,  213.22,  179.39,  213.03,  178.57,  183.31,\n",
       "         157.89,  191.76,  210.72,  168.02,  206.47,  203.62,  190.53,\n",
       "         222.72,  186.29,  122.25,  143.95,  154.66,  184.  ,  108.68,\n",
       "         137.15,  150.18,  125.01]),\n",
       " array([   2.43,    2.99,    1.69,    2.19,    0.96,    0.66,    8.44,\n",
       "          13.44,   11.71,   17.5 ,   15.57,   25.6 ,   25.27,  101.18,\n",
       "           6.74,   11.54,    9.16,    6.65,    6.93,    6.62,   11.73,\n",
       "          14.12,    5.92,   17.17,   11.23,   24.72,   17.63,   23.58,\n",
       "          19.57,   24.35,   29.81,   25.67,   36.27,   40.89,   40.98,\n",
       "          74.37,   66.53,   36.46,   29.49,   67.23,   72.86,   40.99,\n",
       "          53.17,   25.46,   37.32]))"
      ]
     },
     "execution_count": 4,
     "metadata": {},
     "output_type": "execute_result"
    }
   ],
   "source": [
    "data = io.load_data('./data/dataref1.txt')\n",
    "data"
   ]
  },
  {
   "cell_type": "code",
   "execution_count": 5,
   "metadata": {
    "collapsed": false
   },
   "outputs": [
    {
     "data": {
      "text/plain": [
       "(array([   3.59,    4.51,    5.53,    7.56,    8.34,    6.5 ,    9.45,\n",
       "          10.5 ,   11.44,   12.51,   13.53,   14.59,   16.05,   18.64,\n",
       "          26.3 ,   28.26,   29.51,   32.04,   33.99,   36.49,   38.41,\n",
       "          40.42,   42.4 ,   44.49,   45.99,   48.06,   49.49,   51.39,\n",
       "          53.89,   56.89,   57.98,   60.92,   64.73,   69.31,   72.96,\n",
       "          76.95,   81.13,   84.9 ,   89.35,   92.44,   97.41,  100.72,\n",
       "         106.77,  119.98,  189.49]),\n",
       " array([0, 0, 0, 0, 0, 0, 0, 0, 0, 0, 0, 0, 0, 0, 0, 0, 0, 0, 0, 0, 0, 0, 0,\n",
       "        0, 0, 0, 0, 0, 0, 0, 0, 0, 0, 0, 0, 0, 0, 0, 0, 0, 0, 0, 0, 0, 0]),\n",
       " array([ 223.11,  247.88,  253.14,  267.8 ,  270.52,  270.95,  235.58,\n",
       "         249.72,  261.96,  284.3 ,  271.54,  251.43,  320.7 ,  286.46,\n",
       "         189.64,  237.99,  209.82,  179.14,  170.37,  175.92,  191.57,\n",
       "         197.59,  192.79,  213.22,  179.39,  213.03,  178.57,  183.31,\n",
       "         157.89,  191.76,  210.72,  168.02,  206.47,  203.62,  190.53,\n",
       "         222.72,  186.29,  122.25,  143.95,  154.66,  184.  ,  108.68,\n",
       "         137.15,  150.18,  125.01]),\n",
       " array([   2.43,    2.99,    1.69,    2.19,    0.96,    0.66,    8.44,\n",
       "          13.44,   11.71,   17.5 ,   15.57,   25.6 ,   25.27,  101.18,\n",
       "           6.74,   11.54,    9.16,    6.65,    6.93,    6.62,   11.73,\n",
       "          14.12,    5.92,   17.17,   11.23,   24.72,   17.63,   23.58,\n",
       "          19.57,   24.35,   29.81,   25.67,   36.27,   40.89,   40.98,\n",
       "          74.37,   66.53,   36.46,   29.49,   67.23,   72.86,   40.99,\n",
       "          53.17,   25.46,   37.32]))"
      ]
     },
     "execution_count": 5,
     "metadata": {},
     "output_type": "execute_result"
    }
   ],
   "source": [
    "data_file = io.get_data_file_path('dataref1.txt')\n",
    "data = io.load_data(data_file)\n",
    "data"
   ]
  },
  {
   "cell_type": "code",
   "execution_count": 6,
   "metadata": {
    "collapsed": false
   },
   "outputs": [
    {
     "name": "stdout",
     "output_type": "stream",
     "text": [
      "log evidence\n",
      "-283.187269911\n",
      "numerical (sampling) error on logz\n",
      "0.3588349938961697\n",
      "array of sample parameters\n",
      "[[  9.86140731e+00   9.63552945e+10]\n",
      " [  9.31157866e+00   9.09906843e+10]\n",
      " [  8.97720044e+00   9.09750844e+10]\n",
      " ..., \n",
      " [  3.26781937e+00   5.67190429e+08]\n",
      " [  3.27496368e+00   5.65068208e+08]\n",
      " [  3.24086884e+00   5.75661775e+08]]\n",
      "array of weights associated with each sample\n",
      "[ 0.          0.          0.         ...,  0.00372225  0.0037447\n",
      "  0.00292663]\n"
     ]
    },
    {
     "data": {
      "text/plain": [
       "   ncall: 43946\n",
       "    logl: array([ -1.79786322e+08,  -1.54093824e+08,  -1.44896486e+08, ...,\n",
       "        -2.69405527e+02,  -2.69399514e+02,  -2.69646004e+02])\n",
       " logzerr: 0.3588349938961697\n",
       " weights: array([ 0.        ,  0.        ,  0.        , ...,  0.00372225,\n",
       "        0.0037447 ,  0.00292663])\n",
       " samples: array([[  9.86140731e+00,   9.63552945e+10],\n",
       "       [  9.31157866e+00,   9.09906843e+10],\n",
       "       [  8.97720044e+00,   9.09750844e+10],\n",
       "       ..., \n",
       "       [  3.26781937e+00,   5.67190429e+08],\n",
       "       [  3.27496368e+00,   5.65068208e+08],\n",
       "       [  3.24086884e+00,   5.75661775e+08]])\n",
       "   niter: 1477\n",
       "       h: 12.876255284446415\n",
       "  logvol: array([ -4.61016602,  -4.62016602,  -4.63016602, ..., -19.37517019,\n",
       "       -19.37517019, -19.37517019])\n",
       "    logz: -283.18726991137504"
      ]
     },
     "execution_count": 6,
     "metadata": {},
     "output_type": "execute_result"
    }
   ],
   "source": [
    "# NewModel.results_NFW (loglike_NFW, prior_transform_NFW,'filename' ,[a,b])  # a,b limits prior  \n",
    "model.sample (model.loglike_NFW, model.prior_transform_NFW, 'dataref1.txt',[10,10E10])"
   ]
  },
  {
   "cell_type": "code",
   "execution_count": null,
   "metadata": {
    "collapsed": true
   },
   "outputs": [],
   "source": []
  }
 ],
 "metadata": {
  "anaconda-cloud": {},
  "kernelspec": {
   "display_name": "Python [conda root]",
   "language": "python",
   "name": "conda-root-py"
  },
  "language_info": {
   "codemirror_mode": {
    "name": "ipython",
    "version": 3
   },
   "file_extension": ".py",
   "mimetype": "text/x-python",
   "name": "python",
   "nbconvert_exporter": "python",
   "pygments_lexer": "ipython3",
   "version": "3.5.2"
  }
 },
 "nbformat": 4,
 "nbformat_minor": 1
}
