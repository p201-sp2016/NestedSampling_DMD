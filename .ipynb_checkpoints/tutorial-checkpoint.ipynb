{
 "cells": [
  {
   "cell_type": "markdown",
   "metadata": {},
   "source": [
    "# nsdmd tutorial "
   ]
  },
  {
   "cell_type": "markdown",
   "metadata": {},
   "source": [
    "Author:  D S     ,  J Y \n",
    "    \n",
    "    "
   ]
  },
  {
   "cell_type": "markdown",
   "metadata": {},
   "source": [
    "This notebook is a brief introduction to nsdmd model. The model is used to do model comparison on four Dark Matter density profiles. The model compared 4 density files: NFW profile, Isothermal profile, Einasto profile and Generalized DM profile by comparing their log evidence in fitting rotational velocity cruve.   [better wording needed ]\n",
    "\n",
    "\n",
    "\n",
    "\n",
    "This tutorial gives an exmple of the calculation of NFW file. We use the density file with unknown parametes to calculate the enclosing mass and the corresponding rotational velocity. Then we use package nestle to find the best parameters fitting for the function. \n",
    "\n",
    " [better wording needed ]\n"
   ]
  },
  {
   "cell_type": "markdown",
   "metadata": {},
   "source": [
    "\n",
    "### NFW profile :\n",
    "\n",
    " $ \\rho \\left( r \\right) \\propto \\frac{1}{{\\left( r/a \\right)}{\\left[ 1~+~{{\\left( r/a \\right)}} \\right]}^{2}} $\n",
    "Note that\n",
    "\n",
    "r: galactocentric radius\n",
    "\n",
    "$ \\rho( r ) $ : Dark Matter Density as a function of galactocentric radius"
   ]
  },
  {
   "cell_type": "markdown",
   "metadata": {},
   "source": [
    "We can calcuate rotational curve from Dark Matter density profiles, by assuming dark matter distribution is spherically symmetric"
   ]
  },
  {
   "cell_type": "markdown",
   "metadata": {},
   "source": [
    "$ \\frac{GMm}{4 \\pi  R^2} = \\frac {m v^2}{R}$  where $M=\\int_{R_o}^{R} \\rho (r) 4 \\pi  R^2 dr$"
   ]
  },
  {
   "cell_type": "markdown",
   "metadata": {},
   "source": [
    "$v_{calculated} = \\sqrt { \\frac{ G   \\int_{R_o}^{R} \\rho (r) 4 \\pi  r^2 dr} {4 \\pi  r}  }   $\n",
    "\n"
   ]
  },
  {
   "cell_type": "markdown",
   "metadata": {},
   "source": [
    "# Importing package \n",
    "First, import the package. This assumes that the package is already downloaded and installed.\n",
    "If you need to download and install the package, please see the readme on the github page and run setup.py."
   ]
  },
  {
   "cell_type": "code",
   "execution_count": 1,
   "metadata": {
    "collapsed": true
   },
   "outputs": [],
   "source": [
    "import numpy as np\n",
    "import nestle\n",
    "import math\n",
    "\n",
    "import matplotlib.pyplot as plt\n",
    "import matplotlib.animation as animation\n",
    "\n",
    "import corner\n",
    "\n",
    "from scipy.integrate import quad\n",
    "\n",
    "from nsdmd import model \n",
    "from nsdmd import io\n",
    "\n",
    "import pandas as pd\n"
   ]
  },
  {
   "cell_type": "markdown",
   "metadata": {},
   "source": [
    "# Import data  and display an example date set \n"
   ]
  },
  {
   "cell_type": "markdown",
   "metadata": {},
   "source": [
    "The data will be used in this project is the measured rotational speed of the interstellar medium in our local galaxy, as shown in the following figure. If user wants to new define the data set, pleaes note that the data set should be containing 4 arrays, in the order of r(the galactic radius [kpc]) , dr( the error of galactocentric radius [kpc]) , v(the rotational velocity [km/s]) , dv( the erro of the rotational velocty[km/s]). "
   ]
  },
  {
   "cell_type": "code",
   "execution_count": 2,
   "metadata": {
    "collapsed": false
   },
   "outputs": [],
   "source": [
    "# The data will be used in this project is the measured rotational speed of \n",
    "#    the interstellar medium in our local galaxy, as shown in the following figure. \n",
    "# Reference 1: Bhattacharjee et. al.\n",
    "    \n",
    "#load data\n",
    "data_x_ref1,data_xerr_ref2,data_y_ref1,data_yerr_ref1 =io.load_data('dataref1.txt')"
   ]
  },
  {
   "cell_type": "code",
   "execution_count": 3,
   "metadata": {
    "collapsed": false
   },
   "outputs": [
    {
     "data": {
      "image/png": "[encoded data removed]",
      "text/plain": [
       "<matplotlib.figure.Figure at 0x115eba9e8>"
      ]
     },
     "metadata": {},
     "output_type": "display_data"
    }
   ],
   "source": [
    "data_xerr = 0\n",
    "plt.figure()\n",
    "plt.errorbar(data_x_ref1,data_y_ref1,xerr=data_xerr,yerr=data_yerr_ref1,fmt='*')\n",
    "plt.xlabel(\"r (kpc)\")\n",
    "plt.ylabel('V (km/s)')\n",
    "plt.title(\"The measured rotational speed of the interstellar medium as a fucntion of the galactocentric radius (reference 1)\")\n",
    "plt.show()"
   ]
  },
  {
   "cell_type": "markdown",
   "metadata": {},
   "source": [
    "# Set up the model and Nestle sampling to perform inference¶\n"
   ]
  },
  {
   "cell_type": "markdown",
   "metadata": {},
   "source": [
    "### Model\n",
    "\n",
    "Model \n",
    "\n",
    "$ M $ = The rotational curve calculated with the existence of dark matter and the dark matter density is given by the density profile. We have four dark matter density files and give us 4 models to compare. \n",
    "\n",
    "The posterior distribution is calculated as, $ p(M|D,I) = \\frac{p(M|I) p(D|M, I)}{p(D|I)} $"
   ]
  },
  {
   "cell_type": "markdown",
   "metadata": {},
   "source": [
    "### The log likelihood is meant to capture how well a model is able to reproduce the data that it is meant to simulate.\n",
    "\n",
    "$log p(D|M, I) = constant* \\prod_{i}^{} log(\\sigma_i)  \\sum_{i}{}(\\frac{(v_{icalculated} - v_{imeasured})^2}{2 \\sigma_i^2}) $\n",
    "\n",
    "$constant* \\prod_{i}^{} log(\\sigma_i) $, this part doesn't matter much since they are the same for all. \n",
    "\n",
    "$log p(D|M, I) =  \\sum_{i}{}(\\frac{(v_{icalculated} - v_{imeasured})^2}{2 \\sigma_i^2}) $"
   ]
  },
  {
   "cell_type": "markdown",
   "metadata": {},
   "source": [
    "## dark matter density model define "
   ]
  },
  {
   "cell_type": "code",
   "execution_count": 4,
   "metadata": {
    "collapsed": false
   },
   "outputs": [
    {
     "name": "stdout",
     "output_type": "stream",
     "text": [
      "\n",
      "    this function defines the dark matter density profile \n",
      "    thata: free parameters in the dark matter density profile\n",
      "    x: galactocentric radius \n",
      "    \n",
      "    \n"
     ]
    }
   ],
   "source": [
    "print(model.model_NFW.__doc__)\n"
   ]
  },
  {
   "cell_type": "markdown",
   "metadata": {
    "collapsed": true
   },
   "source": [
    "The function model.model_NFW(theta, x) defines the density model. It Calculates the mass between 0 and data_x by integrating the NFW distribution. Note: the mass defined here does not include the normalization constant rho0 (kg/kpc^3). The units of a are kpc. The units of the \"mass\" calculated here are thus kpc^3. It also calculates the rotation velocity: vrot = theta[1]*sqrt(mass/x). The units of sqrt(mass/x) are kpc. The rotation velocity is equal to sqrt(G*rho0)*sqrt((M/rho0)/x) where M is the mass enclosed, rho0 is the normalization constant of the mass distribution, and x is the distance at which we calculate vrot.\n"
   ]
  },
  {
   "cell_type": "code",
   "execution_count": 5,
   "metadata": {
    "collapsed": false
   },
   "outputs": [
    {
     "name": "stdout",
     "output_type": "stream",
     "text": [
      "\n",
      "    this function calculates the loglikelihood \n",
      "    data: data_x(the galactocentric radius[kpc] ),data_xerr(the error of galactocentric radius[kpc]) ,data_y(the rotational               velocits [km/s]),data_yerr (the error of the rotational velocits [km/s])\n",
      "    thata: free parameters in the dark matter density profile\n",
      "\n",
      "\n",
      "    \n",
      "    \n"
     ]
    }
   ],
   "source": [
    "print(model.loglike_NFW.__doc__)"
   ]
  },
  {
   "cell_type": "markdown",
   "metadata": {},
   "source": [
    "## define prior "
   ]
  },
  {
   "cell_type": "code",
   "execution_count": 6,
   "metadata": {
    "collapsed": false
   },
   "outputs": [
    {
     "name": "stdout",
     "output_type": "stream",
     "text": [
      "\n",
      "     It is a transformation from a space where variables are independently and uniformly distributed between 0 and 1 to the          parameter space of interest. \n",
      "    thata: free parameters in the dark matter density profile\n",
      "    priorRange: it's in [a,b] form. \n",
      "                Note that here we choose to use uniform prior. We use prior range to limits the limit the range of the unifrom                 prior.  \n",
      " \n",
      "                a:  the prior for theta[0]is an uniform distribution on [0,a]  (10 the value used )     \n",
      "                b:  the prior for theta[1]is an uniform distribution on [0,b]  (500 the value used )\n",
      "    \n",
      "    \n"
     ]
    }
   ],
   "source": [
    "print(model.prior_transform_NFW.__doc__)"
   ]
  },
  {
   "cell_type": "markdown",
   "metadata": {},
   "source": [
    "## call Nestle "
   ]
  },
  {
   "cell_type": "markdown",
   "metadata": {},
   "source": [
    "Use the Nested sampling algorithms (nestle) to evaluate the Bayesian evidence. Get the results of the fit and the uncertainties in the fit parameters. Then plug the fitting parameters into the density file and calcualte the corresponding rorational velocity curve. Plot it onto the raw data. "
   ]
  },
  {
   "cell_type": "markdown",
   "metadata": {},
   "source": [
    "Use function 'sample' to call package nestle. The input arguements for sample are loglikelihood function, prior function, file name and the limits for priors. \n",
    "\n",
    "In the NFW model case, we would use, "
   ]
  },
  {
   "cell_type": "code",
   "execution_count": 7,
   "metadata": {
    "collapsed": false
   },
   "outputs": [
    {
     "name": "stdout",
     "output_type": "stream",
     "text": [
      "\n",
      "    this function calls the loglikihood calculation function and the prior calculation function \n",
      "    this function calculates the nestle sampling results \n",
      "    \n",
      "    \n",
      "    loglike_model : function calculates likelihood \n",
      "    prior_transform_model: function  calculates priors   \n",
      "    datafile: data file which has four colums: r(the galactocentric radius[kpc] ),dr(the error of galactocentric radius[kpc])                 ,v(the rotational velocits [km/s]), dv(the error of the rotational velocits [km/s])\n",
      "    prior range : an arrage which specifies the limits of unifrom prior for different parameters eg:  prior range = [rangeForTheta[0],rangeForTheta[1],...]\n",
      "    \n",
      "    \n"
     ]
    }
   ],
   "source": [
    "print(model.sample.__doc__)"
   ]
  },
  {
   "cell_type": "code",
   "execution_count": 8,
   "metadata": {
    "collapsed": false
   },
   "outputs": [
    {
     "name": "stdout",
     "output_type": "stream",
     "text": [
      "log evidence\n",
      "-218.505114307\n",
      "numerical (sampling) error on logz\n",
      "0.33245173886078283\n",
      "array of sample parameters\n",
      "[[   9.46973885  481.21302965]\n",
      " [   9.91742196  444.29817879]\n",
      " [   9.73234895  438.97932153]\n",
      " ..., \n",
      " [   4.86638913   23.74759621]\n",
      " [   4.72782057   24.37493662]\n",
      " [   4.79439977   24.08619153]]\n",
      "array of weights associated with each sample\n",
      "[ 0.          0.          0.         ...,  0.00291781  0.00317329\n",
      "  0.00375668]\n"
     ]
    },
    {
     "data": {
      "text/plain": [
       "  logvol: array([ -4.61016602,  -4.62016602,  -4.63016602, ..., -17.48517019,\n",
       "       -17.48517019, -17.48517019])\n",
       " logzerr: 0.33245173886078283\n",
       "   niter: 1288\n",
       "    logz: -218.5051143071706\n",
       " samples: array([[   9.46973885,  481.21302965],\n",
       "       [   9.91742196,  444.29817879],\n",
       "       [   9.73234895,  438.97932153],\n",
       "       ..., \n",
       "       [   4.86638913,   23.74759621],\n",
       "       [   4.72782057,   24.37493662],\n",
       "       [   4.79439977,   24.08619153]])\n",
       "    logl: array([ -1.98085007e+08,  -1.81641077e+08,  -1.71691838e+08, ...,\n",
       "        -2.06856866e+02,  -2.06772930e+02,  -2.06604165e+02])\n",
       " weights: array([ 0.        ,  0.        ,  0.        , ...,  0.00291781,\n",
       "        0.00317329,  0.00375668])\n",
       "       h: 11.052415867155815\n",
       "   ncall: 16175"
      ]
     },
     "execution_count": 8,
     "metadata": {},
     "output_type": "execute_result"
    }
   ],
   "source": [
    "# NewModel.results_NFW (loglike_NFW, prior_transform_NFW,'filename' ,[a,b])  # a,b limits prior  \n",
    "model.sample (model.loglike_NFW, model.prior_transform_NFW, 'dataref1.txt',[10,500])"
   ]
  },
  {
   "cell_type": "markdown",
   "metadata": {},
   "source": [
    "### Reference\n",
    "[1] J. H. Oort. The force exerted by the stellar system in the direction perpendicular to the galactic plane and some related problems. Bull. Astr. Inst. Netherlands, 6:249, aug 1932.\n",
    "\n",
    "[2] D. P. Clemens. Massachusetts-Stony Brook Galactic plane CO survey - The Galactic disk rotation curve. Astrophys. J. , 295:422–428, August 1985.\n",
    "\n",
    "[3] V. C. Rubin, N. Thonnard, and W. K. Ford, Jr. Extended rotation curves of high-luminosity spiral galaxies. IV - Systematic dynamical properties, SA through SC. The Astrophysical Journal, 225:L107–L111, November 1978.\n",
    "\n",
    "[4] F. Zwicky. Die Rotverschiebung von extragalaktischen Nebeln. Helvetica Physica Acta, 6:110–127, 1933.\n",
    "\n",
    "[5] Douglas Clowe, Marusa Bradac, Anthony H. Gonzalez, Maxim Markevitch, Scott W. Randall, Christine Jones, and Dennis Zaritsky. A direct empirical proof of the existence of dark matter. Astrophys. J., 648:L109–L113, 2006.\n",
    "\n",
    "[6] Maxim Markevitch. Chandra observation of the most interesting cluster in the universe. 2005. [ESA Spec. Publ.604,723(2006)].\n",
    "\n",
    "[7] Composite Credit: X-ray: NASA/CXC/CfA/ M.Markevitch et al.; Lensing Map: NASA/STScI; ESO WFI; Magellan/ U.Arizona/ D.Clowe et al.; Optical: NASA/STScI; Magellan/ U.Arizona/D.Clowe et al.;.\n",
    "\n",
    "[8] Pijushpani Bhattacharjee, Soumini Chaudhury, and Susmita Kundu. Rotation Curve of the Milky Way out to 200 kpc. Astrophys. J., 785:63, 2014."
   ]
  }
 ],
 "metadata": {
  "anaconda-cloud": {},
  "kernelspec": {
   "display_name": "Python [conda root]",
   "language": "python",
   "name": "conda-root-py"
  },
  "language_info": {
   "codemirror_mode": {
    "name": "ipython",
    "version": 3
   },
   "file_extension": ".py",
   "mimetype": "text/x-python",
   "name": "python",
   "nbconvert_exporter": "python",
   "pygments_lexer": "ipython3",
   "version": "3.5.2"
  }
 },
 "nbformat": 4,
 "nbformat_minor": 2
}
