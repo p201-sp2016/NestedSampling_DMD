{
 "cells": [
  {
   "cell_type": "markdown",
   "metadata": {},
   "source": [
    "## nsdmd generative model development"
   ]
  },
  {
   "cell_type": "markdown",
   "metadata": {},
   "source": [
    "This model is used to do model comparison on four Dark Matter density profiles. The model compared 4 density files: NFW profile, Isothermal profile, Einasto profile and Generalized DM profile by comparing their log evidence in fitting rotational velocity cruve. We use the model density file with unknown parametes to calculate the enclosing mass and the corresponding rotational velocity. Then we use package nestle to find the best parameters fitting for the function."
   ]
  },
  {
   "cell_type": "markdown",
   "metadata": {},
   "source": [
    "\n",
    "\n",
    "## The four Dark Matter density profiles models: \n",
    "\n",
    "\n",
    "r: galactocentric radius\n",
    "\n",
    "$ \\rho( r ) $ : Dark Matter Density as a function of galactocentric radius"
   ]
  },
  {
   "cell_type": "markdown",
   "metadata": {},
   "source": [
    "\n",
    "### (1) NFW profile :\n",
    "\n",
    " $ \\rho \\left( r \\right) \\propto \\frac{1}{{\\left( r/a \\right)}{\\left[ 1~+~{{\\left( r/a \\right)}} \\right]}^{2}} $\n",
    " \n",
    " For distances close to the galactic center, $r \\ll a$, the density increases as 1/$r$.  At large distances, $r \\gg a$, the density decreases as 1/$r^3$. As the distance to the galactic center increases, the rotational velocity decreases.\n",
    "\n",
    "\n",
    "### (2) Isothermal profile:\n",
    "\n",
    "  $  \\rho \\left( r \\right) \\propto \\frac{1}{{\\left[ 1~+~{{\\left( r/a \\right)}^{2}} \\right]}} $\n",
    "  \n",
    "For distances close to the galactic center, $r \\ll a$, the density  becomes constant.  At large distances, $r \\gg a$, the density decreases as 1/$r^2$.\n",
    "\n",
    "### (3) Einasto profile :\n",
    "\n",
    "$ \\rho \\left( r \\right) \\propto \\exp \\left\\{ { - 2n\\left[ {{{\\left( {\\frac{r}{a}} \\right)}^{1/n}} - 1} \\right]} \\right\\} $\n",
    "\n",
    "The Einasto profile has two free parameters: the Einasto index $n$, which defines the shape of the profile, and the scale radius $a$. For distances close to the galactic center, $r~\\ll~a$, the density approaches a constant value, proportional to $\\exp \\left\\{ {2n} \\right\\}$.  \n",
    "\n",
    "### (4) Generalized DM profile :\n",
    "\n",
    " $ \\rho \\left( r \\right) \\propto    \\frac{1}{{\\left( r/a \\right)}^{\\gamma}{\\left[ 1~+~{{\\left( r/a \\right)}^{\\alpha}} \\right]}^{ \\frac{(\\beta - \\gamma)}{\\alpha}}} $\n",
    "\n",
    "The profile has four free parameters: the scale radius $a$ and $\\alpha$, $\\beta$, and $\\gamma$.  We can put constraints on some of the parameters by requiring that the density remains finite at small distance and that the enclosed mass reaches a limit at large distances.  For distances close to the galactic center, $r~\\ll~a$, the density is proportional to as 1/$r^{\\gamma}$. The requirement that the enclosed mass remains finite at small $r$ requires that $\\gamma~<~3$.  At large distances, $r~\\gg~a$, the density decreases as 1/$r^\\beta$.  The requirement that the enclosed mass in spherical shells that these distances approaches zero requires that  $\\beta~\\geq~3$.\n",
    "\n"
   ]
  },
  {
   "cell_type": "markdown",
   "metadata": {},
   "source": [
    "## Model\n",
    "The generative model does Bayesian inference on dark matter density file and it returns posterior probability (of unknown parameters).\n",
    "\n",
    "\n",
    "\n",
    "$ M $ = The rotational curve calculated with the existence of dark matter and the dark matter density is given by the density profile. We have four dark matter density files and give us 4 models to compare. \n",
    "\n",
    "$I$ = prior information. Note that we set priors for all unknown parameters in density file. \n",
    "\n",
    "$D$ = measured rotational velocity data \n",
    "\n",
    "The posterior distribution is calculated as, $ p(M|D,I) = \\frac{p(M|I) p(D|M, I)}{p(D|I)} $\n",
    "\n",
    "$  p(D|M, I) $ : likelihood function \n",
    "\n",
    "$ p(M|I)  $ : prior probability \n",
    "\n",
    "$ p(M|D,I)  $ : posterior probability (of unknown parameters)\n",
    "\n",
    "$ p(D|I) $ : normalization factor "
   ]
  },
  {
   "cell_type": "markdown",
   "metadata": {},
   "source": [
    "### log likelihood \n",
    "\n",
    "The log likelihood is meant to capture how well a model is able to reproduce the data that it is meant to simulate. The loglikelihood function the genrative model is calculated by, \n",
    "\n",
    "$log p(D|M, I) = constant* \\prod_{i}^{} log(\\sigma_i)  \\sum_{i}{}(\\frac{(v_{icalculated} - v_{imeasured})^2}{2 \\sigma_i^2}) $\n",
    "\n",
    "$constant* \\prod_{i}^{} log(\\sigma_i)  $  Note that this part doesn't matter much since they are the same for all.\n",
    "\n",
    "Therefore, the loglikelihood function: $log p(D|M, I) =  \\sum_{i}{}(\\frac{(v_{icalculated} - v_{imeasured})^2}{2 \\sigma_i^2}) $"
   ]
  },
  {
   "cell_type": "markdown",
   "metadata": {},
   "source": [
    "### prior \n",
    "\n",
    "We choose to use uniform priors and we limit the range of the priors. For example, in NFW model, there are one unknown parameter a and one normalization parameter. The choosen priors for a and normalization parameters are uniform prior in [0,10] and [0,10e10], respectively. "
   ]
  },
  {
   "cell_type": "markdown",
   "metadata": {},
   "source": [
    "### Rotational curve calculated by obtained density model\n",
    "After getting the f\n",
    "We can calcuate rotational curve from Dark Matter density profiles, by assuming dark matter distribution is spherically symmetric"
   ]
  },
  {
   "cell_type": "markdown",
   "metadata": {},
   "source": [
    "$ \\frac{GMm}{4 \\pi  R^2} = \\frac {m v^2}{R}$  where $M=\\int_{R_o}^{R} \\rho (r) 4 \\pi  R^2 dr$"
   ]
  },
  {
   "cell_type": "markdown",
   "metadata": {},
   "source": [
    "$v_{calculated} = \\sqrt { \\frac{ G   \\int_{R_o}^{R} \\rho (r) 4 \\pi  r^2 dr} {4 \\pi  r}  }   $"
   ]
  },
  {
   "cell_type": "markdown",
   "metadata": {},
   "source": [
    "### Imports"
   ]
  },
  {
   "cell_type": "code",
   "execution_count": 1,
   "metadata": {
    "collapsed": true
   },
   "outputs": [],
   "source": [
    "import numpy as np\n",
    "import nestle\n",
    "import math\n",
    "\n",
    "import matplotlib.pyplot as plt\n",
    "import matplotlib.animation as animation\n",
    "\n",
    "import corner\n",
    "\n",
    "from scipy.integrate import quad\n",
    "\n",
    "from nsdmd import model \n",
    "from nsdmd import io\n",
    "\n",
    "import pandas as pd"
   ]
  },
  {
   "cell_type": "markdown",
   "metadata": {},
   "source": [
    "### Loading the and visualizing the data"
   ]
  },
  {
   "cell_type": "markdown",
   "metadata": {},
   "source": [
    "The data will be used in this project is the measured rotational speed of the interstellar medium in our local galaxy, as shown in the following figure. The data used in this notebook is from reference 2. "
   ]
  },
  {
   "cell_type": "code",
   "execution_count": 3,
   "metadata": {
    "collapsed": false
   },
   "outputs": [],
   "source": [
    "data_file = io.get_data_file_path('DMdataref2.txt')\n",
    "data_x,data_xerr,data_y,data_yerr =io.load_data(data_file)"
   ]
  },
  {
   "cell_type": "code",
   "execution_count": 4,
   "metadata": {
    "collapsed": false
   },
   "outputs": [
    {
     "data": {
      "image/png": "[encoded data removed]",
      "text/plain": [
       "<matplotlib.figure.Figure at 0x1171be278>"
      ]
     },
     "metadata": {},
     "output_type": "display_data"
    }
   ],
   "source": [
    "plt.figure()\n",
    "plt.errorbar(data_x,data_y,xerr=data_xerr,yerr=data_yerr,fmt='*')\n",
    "plt.xlabel(\"r (kpc)\")\n",
    "plt.ylabel('V (km/s)')\n",
    "plt.title(\"The measured rotational speed of the interstellar medium as a fucntion of the galactocentric radius (reference 1)\")\n",
    "plt.show()"
   ]
  },
  {
   "cell_type": "markdown",
   "metadata": {},
   "source": [
    "### The log likelihood is meant to capture how well a model is able to reproduce the data that it is meant to simulate.\n",
    "\n",
    "$log p(D|M, I) = constant* \\prod_{i}^{} log(\\sigma_i)  \\sum_{i}{}(\\frac{(v_{icalculated} - v_{imeasured})^2}{2 \\sigma_i^2}) $\n",
    "\n",
    "$constant* \\prod_{i}^{} log(\\sigma_i) $, this part doesn't matter much since they are the same for all. \n",
    "\n",
    "$log p(D|M, I) =  \\sum_{i}{}(\\frac{(v_{icalculated} - v_{imeasured})^2}{2 \\sigma_i^2}) $"
   ]
  },
  {
   "cell_type": "markdown",
   "metadata": {},
   "source": [
    "## Defining the model we use to describe the data"
   ]
  },
  {
   "cell_type": "markdown",
   "metadata": {},
   "source": [
    "### NFW\n",
    "\n",
    "We are going to calculate the mass between 0 and each data point by integrating the NFW distribution. However, the mass defined here does not include the normalization constant rho0 (kg/kpc^3).\n",
    "\n",
    "mass = 4.*np.pi*(a**3)*(np.log((a+x)/a)-x/(a+x))\n",
    "\n",
    "To calculate the rotation velocity: vrot = theta[1]*sqrt(mass/x)\n",
    "    \n",
    "The rotation velocity is equal to sqrt(G*rho0)*sqrt((M/rho0)/x) where M is the mass enclosed, rho0 is the normalization constant of the mass distribution, and x is the distance at which we calculate vrot. When we determine theta[1], we determine sqrt(G*rho0). Since theta[1] = sqrt(G*rho0) we can now determine rho0: rho0 = theta[1]^2/G. The units on the right-hand side are: (3.24E-17 1/s)^2/(m^3/(kg s^2)) = (3.24E-17)^2 kg/(m^3). To convert from kg/m^3 to kg/kpc^3, we multiply by (3.086E19)^3. The normalization constant rho0 is thus (theta1[1]^2)/6.67E-11 * ((3.24E-17)^2 * (3.086E19)^3 kg/(kpc)^3 = (theta1[1]^2)*4.625E35 kg/(kpc)^3 = 2.312E5 Msun/(kpc)^3.\n",
    "    \n",
    "The units of a are kpc, thus the units of the \"mass\" calculated here are thus kpc^3. The units of sqrt(mass/x) are kpc. The units of vrot are km/s. The units of theta[1] are thus (km/s)/kpc = (10^3 m)/s/(3.086E19 m) = 3.24E-17 1/s.\n",
    "\n",
    "#### Log Likelihood of NFW\n",
    "\n",
    "Again, to calculate the mass between 0 and data_x by integrating the NFW distribution.\n",
    "a = theta[0]\n",
    "mass = 4.*np.pi*(a**3)*(np.log((a+data_x_ref1)/a)-data_x_ref1/(a+data_x_ref1))\n",
    "        \n",
    "vrot = theta[1]*np.sqrt(mass/data_x_ref1) \n",
    "        \n",
    "chisq = np.sum(((data_y_ref1 - vrot) / data_yerr_ref1)**2)\n",
    "\n",
    "Result = -chisq/2\n",
    "\n",
    "#### Prior for NFW model\n",
    "\n",
    "It is a transformation from a space where variables are independently and uniformly distributed between 0 and 1 to the parameter space of interest. \n",
    "\n",
    "theta[0] in the range of [0,10] and theta[1] in the range of [0,300]\n",
    "\n",
    "Result = np.array([20, 500]) * theta"
   ]
  },
  {
   "cell_type": "code",
   "execution_count": null,
   "metadata": {
    "collapsed": true
   },
   "outputs": [],
   "source": [
    "result_NFW_ref1 = nestle.sample(loglike_NFW_ref1, prior_transform_NFW, 2)\n",
    "result_NFW_ref2 = nestle.sample(loglike_NFW_ref2, prior_transform_NFW, 2)\n",
    "\n",
    "p_NFW_ref1, cov_NFW_ref1 = nestle.mean_and_cov(result_NFW_ref1.samples, result_NFW_ref1.weights)\n",
    "p_NFW_ref2, cov_NFW_ref2 = nestle.mean_and_cov(result_NFW_ref2.samples, result_NFW_ref2.weights)\n",
    "\n",
    "# Start with printing the results of the fit based on the data from reference 1\n",
    "print(\"Results based on fits to the data from reference 1:\")\n",
    "print(\"Core radius a = {0:5.2f} +/- {1:5.2f} kpc\".format(p_NFW_ref1[0], np.sqrt(cov_NFW_ref1[0, 0])))\n",
    "print(\"Normalization factor = {0:5.2f} +/- {1:5.2f} km/s/kpc\".format(p_NFW_ref1[1], np.sqrt(cov_NFW_ref1[1, 1])))\n",
    "print(\"Halo density normalization constant = {0:5.2e} +/- {1:5.2e} Msun/kpc^3\".format(2.312E5*p_NFW_ref1[1], \n",
    "                                                                                      2.312E5*np.sqrt(cov_NFW_ref1[1, 1])))\n",
    "\n",
    "# Note: in order to convert the model to units of Msun/kpc^3 we multiply its value by 2.312E5.\n",
    "# See comments in the model definition for details.\n",
    "print(\"Halo density in our solor system = {0:5.2e} Msun/kpc^3.\".format(2.312E5*model_NFW(p_NFW_ref1, 8)))\n",
    "\n",
    "# Note: 1 Msun/kpc^3 = 3.817E-2 (GeV/c^2)/m^3 = 3.817E-5 (GeV/c^2)/(dm^3)\n",
    "# 1 dm^3 = 1 liter.\n",
    "# 3 WIMPS/liter would be 300 GeV/c^2/liter\n",
    "print(\"Halo density in our solor system = {0:5.2e} GeV/c^2/liter.\".format(3.817E-5*2.312E5*model_NFW(p_NFW_ref1, 8)))\n",
    "\n",
    "plt.figure()\n",
    "plt.errorbar(data_x_ref1,data_y_ref1,xerr=data_xerr,yerr=data_yerr_ref1,fmt='*')\n",
    "plt.xlabel(\"r (kpc)\")\n",
    "plt.ylabel('V (km/s)')\n",
    "plt.title(\"The measured rotational speed of the interstellar medium as a fucntion of the galactocentric radius (reference 1)\")\n",
    "xplot = [5+5*i for i in range(40)]\n",
    "plt.plot(xplot,model_NFW(p_NFW_ref1, xplot))\n",
    "plt.show()\n",
    "\n",
    "fig = corner.corner(result_NFW_ref1.samples, weights=result_NFW_ref1.weights, labels=['a', 'rho0'],\n",
    "                    range=[0.99999, 0.99999], bins=30)\n",
    "plt.show()\n",
    "\n",
    "\n",
    "# Continue with printing the results of the fit based on the data from reference 2\n",
    "print(\"Results based on fits to the data from reference 1:\")\n",
    "print(\"Core radius a = {0:5.2f} +/- {1:5.2f} kpc\".format(p_NFW_ref2[0], np.sqrt(cov_NFW_ref2[0, 0])))\n",
    "print(\"Normalization factor = {0:5.2f} +/- {1:5.2f} km/s/kpc\".format(p_NFW_ref2[1], np.sqrt(cov_NFW_ref2[1, 1])))\n",
    "print(\"Halo density normalization constant = {0:5.2e} +/- {1:5.2e} Msun/kpc^3\".format(2.312E5*p_NFW_ref2[1], \n",
    "                                                                                      2.312E5*np.sqrt(cov_NFW_ref2[1, 1])))\n",
    "\n",
    "# Note: in order to convert the model to units of Msun/kpc^3 we multiply its value by 2.312E5.\n",
    "# See comments in the model definition for details.\n",
    "print(\"Halo density in our solor system = {0:5.2e} Msun/kpc^3.\".format(2.312E5*model_NFW(p_NFW_ref2, 8)))\n",
    "\n",
    "# Note: 1 Msun/kpc^3 = 3.817E-2 (GeV/c^2)/m^3 = 3.817E-5 (GeV/c^2)/(dm^3)\n",
    "# 1 dm^3 = 1 liter.\n",
    "# 3 WIMPS/liter would be 300 GeV/c^2/liter\n",
    "print(\"Halo density in our solor system = {0:5.2e} GeV/c^2/liter.\".format(3.817E-5*2.312E5*model_NFW(p_NFW_ref2, 8)))\n",
    "\n",
    "plt.figure()\n",
    "plt.errorbar(data_x_ref2,data_y_ref2,xerr=data_xerr,yerr=data_yerr_ref2,fmt='*')\n",
    "plt.xlabel(\"r (kpc)\")\n",
    "plt.ylabel('V (km/s)')\n",
    "plt.title(\"The measured rotational speed of the interstellar medium as a fucntion of the galactocentric radius (reference 2)\")\n",
    "xplot = [5+5*i for i in range(40)]\n",
    "plt.plot(xplot,model_NFW(p_NFW_ref2, xplot))\n",
    "plt.show()\n",
    "\n",
    "fig = corner.corner(result_NFW_ref2.samples, weights=result_NFW_ref2.weights, labels=['a', 'rho0'],\n",
    "                    range=[0.99999, 0.99999], bins=30)\n",
    "plt.show()"
   ]
  },
  {
   "cell_type": "markdown",
   "metadata": {},
   "source": [
    "### Isothermal\n",
    "\n",
    "We are going to calculate the mass between 0 and each data point by integrating the NFW distribution. However, the mass defined here does not include the normalization constant rho0 (kg/kpc^3).\n",
    "\n",
    "mass = 4.*np.pi*(a**3)*(x/a - np.arctan(x/a))\n",
    "\n",
    "To calculate the rotation velocity: vrot = theta[1]*sqrt(mass/x)\n",
    "    \n",
    "The rotation velocity is equal to sqrt(G*rho0)*sqrt((M/rho0)/x) where M is the mass enclosed, rho0 is the normalization constant of the mass distribution, and x is the distance at which we calculate vrot. When we determine theta[1], we determine sqrt(G*rho0). Since theta[1] = sqrt(G*rho0) we can now determine rho0: rho0 = theta[1]^2/G. The units on the right-hand side are: (3.24E-17 1/s)^2/(m^3/(kg s^2)) = (3.24E-17)^2 kg/(m^3). To convert from kg/m^3 to kg/kpc^3, we multiply by (3.086E19)^3. The normalization constant rho0 is thus (theta1[1]^2)/6.67E-11 * ((3.24E-17)^2 * (3.086E19)^3 kg/(kpc)^3 = (theta1[1]^2)*4.625E35 kg/(kpc)^3 = 2.312E5 Msun/(kpc)^3.\n",
    "    \n",
    "The units of a are kpc, thus the units of the \"mass\" calculated here are thus kpc^3. The units of sqrt(mass/x) are kpc. The units of vrot are km/s. The units of theta[1] are thus (km/s)/kpc = (10^3 m)/s/(3.086E19 m) = 3.24E-17 1/s.\n",
    "\n",
    "#### Log Likelihood of Isothermal\n",
    "\n",
    "Again, to calculate the mass between 0 and data points by integrating the Isothermal distribution.\n",
    "a = theta[0]\n",
    "mass = 4.*np.pi*(a**3)*(data_x_ref2/a - np.arctan(data_x_ref2/a))\n",
    "        \n",
    "vrot = theta[1]*np.sqrt(mass/data_x_ref1) \n",
    "        \n",
    "chisq = np.sum(((data_y_ref1 - vrot) / data_yerr_ref1)**2)\n",
    "\n",
    "Result = -chisq/2\n",
    "\n",
    "#### Prior for Isothermal model\n",
    "\n",
    "It is a transformation from a space where variables are independently and uniformly distributed between 0 and 1 to the parameter space of interest. \n",
    "\n",
    "theta[0] in the range of [0,10] and theta[1] in the range of [0,300]\n",
    "\n",
    "Result = np.array([5, 1000]) * theta"
   ]
  },
  {
   "cell_type": "code",
   "execution_count": null,
   "metadata": {
    "collapsed": true
   },
   "outputs": [],
   "source": [
    "result_ISO_ref1 = nestle.sample(loglike_ISO_ref1, prior_transform_ISO, 2)\n",
    "result_ISO_ref2 = nestle.sample(loglike_ISO_ref2, prior_transform_ISO, 2)\n",
    "\n",
    "p_ISO_ref1, cov_ISO_ref1 = nestle.mean_and_cov(result_ISO_ref1.samples, result_ISO_ref1.weights)\n",
    "p_ISO_ref2, cov_ISO_ref2 = nestle.mean_and_cov(result_ISO_ref2.samples, result_ISO_ref2.weights)\n",
    "\n",
    "# Start with printing the results of the fit based on the data from reference 1\n",
    "print(\"Results based on fits to the data from reference 1:\")\n",
    "print(\"Core radius a = {0:5.2f} +/- {1:5.2f} kpc\".format(p_ISO_ref1[0], np.sqrt(cov_ISO_ref1[0, 0])))\n",
    "print(\"Normalization factor = {0:5.2f} +/- {1:5.2f} km/s/kpc\".format(p_ISO_ref1[1], np.sqrt(cov_ISO_ref1[1, 1])))\n",
    "print(\"Halo density normalization constant = {0:5.2e} +/- {1:5.2e} Msun/kpc^3\".format(2.312E5*p_ISO_ref1[1], \n",
    "                                                                                      2.312E5*np.sqrt(cov_ISO_ref1[1, 1])))\n",
    "\n",
    "# Note: in order to convert the model to units of Msun/kpc^3 we multiply its value by 2.312E5.\n",
    "# See comments in the model definition for details.\n",
    "print(\"Halo density in our solor system = {0:5.2e} Msun/kpc^3.\".format(2.312E5*model_ISO(p_ISO_ref1, 8)))\n",
    "\n",
    "# Note: 1 Msun/kpc^3 = 3.817E-2 (GeV/c^2)/m^3 = 3.817E-5 (GeV/c^2)/(dm^3)\n",
    "# 1 dm^3 = 1 liter.\n",
    "# 3 WIMPS/liter would be 300 GeV/c^2/liter\n",
    "print(\"Halo density in our solor system = {0:5.2e} GeV/c^2/liter.\".format(3.817E-5*2.312E5*model_ISO(p_ISO_ref1, 8)))\n",
    "\n",
    "plt.figure()\n",
    "plt.errorbar(data_x_ref1,data_y_ref1,xerr=data_xerr,yerr=data_yerr_ref1,fmt='*')\n",
    "plt.xlabel(\"r (kpc)\")\n",
    "plt.ylabel('V (km/s)')\n",
    "plt.title(\"The measured rotational speed of the interstellar medium as a fucntion of the galactocentric radius (reference 1)\")\n",
    "xplot = [5+5*i for i in range(40)]\n",
    "plt.plot(xplot,model_ISO(p_ISO_ref1, xplot))\n",
    "plt.show()\n",
    "\n",
    "fig = corner.corner(result_ISO_ref1.samples, weights=result_ISO_ref1.weights, labels=['a', 'rho0'],\n",
    "                    range=[0.99999, 0.99999], bins=30)\n",
    "plt.show()\n",
    "\n",
    "\n",
    "# Continue with printing the results of the fit based on the data from reference 2\n",
    "print(\"Results based on fits to the data from reference 1:\")\n",
    "print(\"Core radius a = {0:5.2f} +/- {1:5.2f} kpc\".format(p_ISO_ref2[0], np.sqrt(cov_ISO_ref2[0, 0])))\n",
    "print(\"Normalization factor = {0:5.2f} +/- {1:5.2f} km/s/kpc\".format(p_ISO_ref2[1], np.sqrt(cov_ISO_ref2[1, 1])))\n",
    "print(\"Halo density normalization constant = {0:5.2e} +/- {1:5.2e} Msun/kpc^3\".format(2.312E5*p_ISO_ref2[1], \n",
    "                                                                                      2.312E5*np.sqrt(cov_ISO_ref2[1, 1])))\n",
    "\n",
    "# Note: in order to convert the model to units of Msun/kpc^3 we multiply its value by 2.312E5.\n",
    "# See comments in the model definition for details.\n",
    "print(\"Halo density in our solor system = {0:5.2e} Msun/kpc^3.\".format(2.312E5*model_ISO(p_ISO_ref2, 8)))\n",
    "\n",
    "# Note: 1 Msun/kpc^3 = 3.817E-2 (GeV/c^2)/m^3 = 3.817E-5 (GeV/c^2)/(dm^3)\n",
    "# 1 dm^3 = 1 liter.\n",
    "# 3 WIMPS/liter would be 300 GeV/c^2/liter\n",
    "print(\"Halo density in our solor system = {0:5.2e} GeV/c^2/liter.\".format(3.817E-5*2.312E5*model_ISO(p_ISO_ref2, 8)))\n",
    "\n",
    "plt.figure()\n",
    "plt.errorbar(data_x_ref2,data_y_ref2,xerr=data_xerr,yerr=data_yerr_ref2,fmt='*')\n",
    "plt.xlabel(\"r (kpc)\")\n",
    "plt.ylabel('V (km/s)')\n",
    "plt.title(\"The measured rotational speed of the interstellar medium as a fucntion of the galactocentric radius (reference 2)\")\n",
    "xplot = [5+5*i for i in range(40)]\n",
    "plt.plot(xplot,model_ISO(p_ISO_ref2, xplot))\n",
    "plt.show()\n",
    "\n",
    "fig = corner.corner(result_ISO_ref2.samples, weights=result_ISO_ref2.weights, labels=['a', 'rho0'],\n",
    "                    range=[0.99999, 0.99999], bins=30)\n",
    "plt.show()"
   ]
  },
  {
   "cell_type": "markdown",
   "metadata": {},
   "source": [
    "### Einasto \n",
    "\n",
    "This time we start with defining the Einasto density function. The units are kpc.\n",
    "\n",
    "rho = np.exp(-2.*n*(x/a)**(1./n) - 1.)\n",
    "\n",
    "Then we calculate the integrand for mass integration: rho*x**2\n",
    "\n",
    "mass = 4.*np.pi*integral(rho*x**2)\n",
    "\n",
    "vrot = theta[2]*np.sqrt(mass/x) \n",
    "\n",
    "The rotation velocity is equal to sqrt(Grho0)sqrt((M/rho0)/x) where M is the mass enclosed, rho0 is the normalization constant of the mass distribution, and x is the distance at which we calculate vrot. When we determine theta[1], we determine sqrt(Grho0). Since theta[1] = sqrt(Grho0) we can now determine rho0: rho0 = theta[1]^2/G. The units on the right-hand side are: (3.24E-17 1/s)^2/(m^3/(kg s^2)) = (3.24E-17)^2 kg/(m^3). To convert from kg/m^3 to kg/kpc^3, we multiply by (3.086E19)^3. The normalization constant rho0 is thus (theta1[1]^2)/6.67E-11 ((3.24E-17)^2 (3.086E19)^3 kg/(kpc)^3 = (theta1[1]^2)*4.625E35 kg/(kpc)^3 = 2.312E5 Msun/(kpc)^3.\n",
    "\n",
    "The units of a are kpc, thus the units of the \"mass\" calculated here are thus kpc^3. The units of sqrt(mass/x) are kpc. The units of vrot are km/s. The units of theta[1] are thus (km/s)/kpc = (10^3 m)/s/(3.086E19 m) = 3.24E-17 1/s.\n",
    "\n",
    "#### Log Likelihood of Einasto\n",
    "\n",
    "Again, to calculate the mass between 0 and data points by integrating the Isothermal distribution. \n",
    "\n",
    "mass = 4.*np.pi*integral(rho*x**2)\n",
    "\n",
    "vrot = theta[2]*np.sqrt(mass/data_x_ref1) \n",
    "\n",
    "chisq = np.sum(((data_y_ref1 - vrot) / data_yerr_ref1)**2)\n",
    "\n",
    "Result = -chisq/2\n",
    "\n",
    "#### Prior for Einasto model\n",
    "\n",
    "It is a transformation from a space where variables are independently and uniformly distributed between 0 and 1 to the parameter space of interest.\n",
    "\n",
    "theta[0] and theta[1] in the range of [0,10] and theta[1] in the range of [0,500]\n",
    "\n",
    "Result = np.array([10, 10, 500]) * theta"
   ]
  },
  {
   "cell_type": "code",
   "execution_count": null,
   "metadata": {
    "collapsed": true
   },
   "outputs": [],
   "source": [
    "result_Einasto_ref1 = nestle.sample(loglike_Einasto_ref1, prior_transform_Einasto, 3)\n",
    "result_Einasto_ref2 = nestle.sample(loglike_Einasto_ref2, prior_transform_Einasto, 3)\n",
    "\n",
    "p_Einasto_ref1, cov_Einasto_ref1 = nestle.mean_and_cov(result_Einasto_ref1.samples, result_Einasto_ref1.weights)\n",
    "p_Einasto_ref2, cov_Einasto_ref2 = nestle.mean_and_cov(result_Einasto_ref2.samples, result_Einasto_ref2.weights)\n",
    "\n",
    "# Start with printing the results of the fit based on the data from reference 1\n",
    "print(\"Results based on fits to the data from reference 1:\")\n",
    "print(\"Core radius a = {0:5.2f} +/- {1:5.2f} kpc\".format(p_Einasto_ref1[0], np.sqrt(cov_Einasto_ref1[0, 0])))\n",
    "print(\"n = {0:5.2f} +/- {1:5.2f}\".format(p_Einasto_ref1[1], np.sqrt(cov_Einasto_ref1[1, 1])))\n",
    "print(\"Normalization factor = {0:5.2f} +/- {1:5.2f} km/s/kpc\".format(p_Einasto_ref1[2], np.sqrt(cov_Einasto_ref1[2, 2])))\n",
    "print(\"Halo density normalization constant = {0:5.2e} +/- {1:5.2e} Msun/kpc^3\".format(2.312E5*p_Einasto_ref1[2], \n",
    "                                                                                      2.312E5*np.sqrt(cov_Einasto_ref1[2, 2])))\n",
    "\n",
    "# Note: in order to convert the model to units of Msun/kpc^3 we multiply its value by 2.312E5.\n",
    "# See comments in the model definition for details.\n",
    "print(\"Halo density in our solor system = {0:5.2e} Msun/kpc^3.\".format(2.312E5*model_Einasto(p_Einasto_ref1, 8)))\n",
    "\n",
    "# Note: 1 Msun/kpc^3 = 3.817E-2 (GeV/c^2)/m^3 = 3.817E-5 (GeV/c^2)/(dm^3)\n",
    "# 1 dm^3 = 1 liter.\n",
    "# 3 WIMPS/liter would be 300 GeV/c^2/liter\n",
    "print(\"Halo density in our solor system = {0:5.2e} GeV/c^2/liter.\".format(3.817E-5*2.312E5*model_Einasto(p_Einasto_ref1, 8)))\n",
    "\n",
    "plt.figure()\n",
    "plt.errorbar(data_x_ref1,data_y_ref1,xerr=data_xerr,yerr=data_yerr_ref1,fmt='*')\n",
    "plt.xlabel(\"r (kpc)\")\n",
    "plt.ylabel('V (km/s)')\n",
    "plt.title(\"The measured rotational speed of the interstellar medium as a fucntion of the galactocentric radius (reference 1)\")\n",
    "xplot = [5.+5.*i for i in range(40)]\n",
    "yplot = [model_Einasto(p_Einasto_ref1, xplot[i]) for i in range(40)]\n",
    "plt.plot(xplot,yplot)\n",
    "plt.show()\n",
    "\n",
    "fig = corner.corner(result_Einasto_ref1.samples, weights=result_Einasto_ref1.weights, labels=['a', 'n', 'rho0'],\n",
    "                    range=[0.99999, 0.99999, 0.99999], bins=30)\n",
    "plt.show()\n",
    "\n",
    "\n",
    "# Continue with printing the results of the fit based on the data from reference 2\n",
    "print(\"Results based on fits to the data from reference 1:\")\n",
    "print(\"Core radius a = {0:5.2f} +/- {1:5.2f} kpc\".format(p_Einasto_ref2[0], np.sqrt(cov_Einasto_ref2[0, 0])))\n",
    "print(\"n = {0:5.2f} +/- {1:5.2f}\".format(p_Einasto_ref2[1], np.sqrt(cov_Einasto_ref2[1, 1])))\n",
    "print(\"Normalization factor = {0:5.2f} +/- {1:5.2f} km/s/kpc\".format(p_Einasto_ref2[2], np.sqrt(cov_Einasto_ref2[2, 2])))\n",
    "print(\"Halo density normalization constant = {0:5.2e} +/- {1:5.2e} Msun/kpc^3\".format(2.312E5*p_Einasto_ref2[2], \n",
    "                                                                                      2.312E5*np.sqrt(cov_Einasto_ref2[2, 2])))\n",
    "\n",
    "# Note: in order to convert the model to units of Msun/kpc^3 we multiply its value by 2.312E5.\n",
    "# See comments in the model definition for details.\n",
    "print(\"Halo density in our solor system = {0:5.2e} Msun/kpc^3.\".format(2.312E5*model_Einasto(p_Einasto_ref2, 8)))\n",
    "\n",
    "# Note: 1 Msun/kpc^3 = 3.817E-2 (GeV/c^2)/m^3 = 3.817E-5 (GeV/c^2)/(dm^3)\n",
    "# 1 dm^3 = 1 liter.\n",
    "# 3 WIMPS/liter would be 300 GeV/c^2/liter\n",
    "print(\"Halo density in our solor system = {0:5.2e} GeV/c^2/liter.\".format(3.817E-5*2.312E5*model_Einasto(p_Einasto_ref2, 8)))\n",
    "\n",
    "plt.figure()\n",
    "plt.errorbar(data_x_ref2,data_y_ref2,xerr=data_xerr,yerr=data_yerr_ref2,fmt='*')\n",
    "plt.xlabel(\"r (kpc)\")\n",
    "plt.ylabel('V (km/s)')\n",
    "plt.title(\"The measured rotational speed of the interstellar medium as a fucntion of the galactocentric radius (reference 2)\")\n",
    "xplot = [5+5*i for i in range(40)]\n",
    "yplot = [model_Einasto(p_Einasto_ref1, xplot[i]) for i in range(40)]\n",
    "plt.plot(xplot,yplot)\n",
    "plt.show()\n",
    "\n",
    "fig = corner.corner(result_Einasto_ref1.samples, weights=result_Einasto_ref1.weights, labels=['a', 'n', 'rho0'],\n",
    "                    range=[0.99999, 0.99999, 0.99999], bins=30)\n",
    "\n",
    "plt.show()"
   ]
  },
  {
   "cell_type": "markdown",
   "metadata": {},
   "source": [
    "### Generalized model????"
   ]
  },
  {
   "cell_type": "code",
   "execution_count": null,
   "metadata": {
    "collapsed": true
   },
   "outputs": [],
   "source": []
  },
  {
   "cell_type": "markdown",
   "metadata": {},
   "source": [
    "## Nestle"
   ]
  },
  {
   "cell_type": "markdown",
   "metadata": {},
   "source": [
    "Therefore, we calculated the posterior $ p(M|D,I) = \\frac{p(M|I) p(D|M, I)}{p(D|I)} $ and compare the posterior by MCMC and/or Nestle to do model comparison. \n",
    "\n",
    "By using the Nestle package, it will give us log evidence, numerical (sampling) error on logz, array of sample parameters, array of weights associated with each sampleand result.weights. "
   ]
  }
 ],
 "metadata": {
  "anaconda-cloud": {},
  "kernelspec": {
   "display_name": "Python [conda root]",
   "language": "python",
   "name": "conda-root-py"
  },
  "language_info": {
   "codemirror_mode": {
    "name": "ipython",
    "version": 3
   },
   "file_extension": ".py",
   "mimetype": "text/x-python",
   "name": "python",
   "nbconvert_exporter": "python",
   "pygments_lexer": "ipython3",
   "version": "3.5.2"
  }
 },
 "nbformat": 4,
 "nbformat_minor": 2
}
