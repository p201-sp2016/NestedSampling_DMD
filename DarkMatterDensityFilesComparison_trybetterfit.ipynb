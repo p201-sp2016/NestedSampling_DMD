{
 "cells": [
  {
   "cell_type": "markdown",
   "metadata": {},
   "source": [
    "### In this project, we will do model comparison on four Dark Matter density profiles. We will test which models fits the galaxy rotational curve best."
   ]
  },
  {
   "cell_type": "markdown",
   "metadata": {},
   "source": [
    "### Model\n",
    "Model \n",
    "\n",
    "$ M $ = The rotational curve calculated with the existence of dark matter and the dark matter density is given by the density profile. We have four dark matter density files and give us 4 models to compare. \n",
    "\n",
    "The posterior distribution is calculated as, $ p(M|D,I) = \\frac{p(M|I) p(D|M, I)}{p(D|I)} $"
   ]
  },
  {
   "cell_type": "markdown",
   "metadata": {},
   "source": [
    "\n",
    "\n",
    "### The four Dark Matter density profiles models: \n",
    "\n",
    "Note that\n",
    "\n",
    "r: galactocentric radius\n",
    "\n",
    "$ \\rho( r ) $ : Dark Matter Density as a function of galactocentric radius"
   ]
  },
  {
   "cell_type": "markdown",
   "metadata": {},
   "source": [
    "\n",
    "### (1) NFW profile :\n",
    "\n",
    " $ \\rho \\left( r \\right) \\propto \\frac{1}{{\\left( r/a \\right)}{\\left[ 1~+~{{\\left( r/a \\right)}} \\right]}^{2}} $\n",
    "\n",
    "\n",
    "### (2) Isothermal profile:\n",
    "\n",
    "  $  \\rho \\left( r \\right) \\propto \\frac{1}{{\\left[ 1~+~{{\\left( r/a \\right)}^{2}} \\right]}} $\n",
    "\n",
    "\n",
    "### (3) Einasto profile :\n",
    "\n",
    " $ \\rho \\left( r \\right) \\propto \\exp^{- A r ^\\alpha} $\n",
    "\n",
    "\n",
    "### (4) Generalized DM profile :\n",
    "\n",
    " $ \\rho \\left( r \\right) \\propto    \\frac{1}{{\\left( r/a \\right)}^{\\gamma}{\\left[ 1~+~{{\\left( r/a \\right)}^{\\alpha}} \\right]}^{ \\frac{(\\beta - \\gamma)}{\\alpha}}} $\n",
    "\n"
   ]
  },
  {
   "cell_type": "markdown",
   "metadata": {},
   "source": [
    "### We can calcuate rotational curve from Dark Matter density profiles, by assuming dark matter distribution is spherically symmetric"
   ]
  },
  {
   "cell_type": "markdown",
   "metadata": {},
   "source": [
    "$ \\frac{GMm}{4 \\pi  R^2} = \\frac {m v^2}{R}$  where $M=\\int_{R_o}^{R} \\rho (r) 4 \\pi  R^2 dr$"
   ]
  },
  {
   "cell_type": "markdown",
   "metadata": {},
   "source": [
    "$v_{calculated} = \\sqrt { \\frac{ G   \\int_{R_o}^{R} \\rho (r) 4 \\pi  r^2 dr} {4 \\pi  r}  }   $\n",
    "\n",
    "$ v_{calculated}  \\left( r \\right) \\propto    \\sqrt {  \\int_{0}^{R} \\rho (r) r dr  }  $\n"
   ]
  },
  {
   "cell_type": "code",
   "execution_count": null,
   "metadata": {
    "collapsed": true
   },
   "outputs": [],
   "source": []
  },
  {
   "cell_type": "code",
   "execution_count": 211,
   "metadata": {
    "collapsed": true
   },
   "outputs": [],
   "source": [
    "  #  !!!! pip install nestle  (from terminal)\n",
    "    \n",
    "# !conda install -y -c conda-forge nestle (somehow couldn't find nestle)"
   ]
  },
  {
   "cell_type": "code",
   "execution_count": 212,
   "metadata": {},
   "outputs": [],
   "source": [
    "import numpy as np\n",
    "import nestle\n",
    "import math\n",
    "\n",
    "import matplotlib.pyplot as plt\n",
    "import matplotlib.animation as animation\n",
    "\n",
    "import corner\n",
    "\n",
    "from scipy.integrate import quad"
   ]
  },
  {
   "cell_type": "markdown",
   "metadata": {},
   "source": [
    "### The data will be used in this project is the measured rotational speed of the interstellar medium in our local galaxy, as shown in the following figure. "
   ]
  },
  {
   "cell_type": "code",
   "execution_count": 213,
   "metadata": {
    "collapsed": true
   },
   "outputs": [],
   "source": [
    "# Define the data for two references:\n",
    "# Reference 1: Bhattacharjee et. al.\n",
    "# Reference 2: Sofue\n",
    "   \n",
    "\n",
    "    \n",
    "# Start with Reference 1: data_x_ref1, data_y_ref1, data_yerr_ref1\n",
    "    \n",
    "# data_x_ref1 =  distance to the center of the galaxy  (ref 1)\n",
    "data_x_ref1 = np.array([10.5,11.44,12.51,13.53,14.59,16.05,18.64,26.3,28.26,29.51,\n",
    "32.04,33.99,36.49,38.41,40.42,42.4,44.49,\n",
    "45.99,48.06,49.49,51.39,53.89,56.89,57.98,60.92,64.73,69.31,72.96,76.95,81.13,84.9,89.35,92.44,\n",
    "97.41,100.72,106.77,119.98,189.49])\n",
    "\n",
    "# data_y_ref1  =  ratational velocity (ref 1)\n",
    "data_y_ref1 = np.array([249.72,261.96,\n",
    "284.3,271.54,251.43,320.7,286.46,189.64,237.99,209.82,179.14,170.37,175.92,191.57,197.59,192.79,\n",
    "213.22,179.39,213.03,178.57,183.31,157.89,191.76,210.72,168.02,206.47,203.62,190.53,222.72,186.29,122.25,\n",
    "143.95,154.66,184,108.68,137.15,150.18,125.01])\n",
    "\n",
    "# data_yerr_ref1  =  the error of ratational velocity (ref 1)\n",
    "data_yerr_ref1 = np.array([13.44,11.71,17.5,15.57,25.6,\n",
    "25.27,101.18,6.74,11.54,9.16,6.65,6.93,6.62,11.73,14.12,5.92,17.17,11.23,24.72,17.63,23.58,\n",
    "19.57,24.35,29.81,25.67,36.27,40.89,40.98,74.37,66.53,36.46,29.49,67.23,72.86,40.99,53.17,25.46,37.32])\n",
    "\n",
    "\n",
    "\n",
    "# Continue with Reference 2: data_x_ref2, data_y_ref2, data_yerr_ref2\n",
    "\n",
    "# data_x_ref2 =  distance to the center of the galaxy (ref 2)\n",
    "data_x_ref2 = np.array([10.,11,12.2,13.4,14.7,18.5,24,31.2,40.6,52.8,68.6,89.2,116,151,196])\n",
    "#                        431,560,728,946,1230,1600])\n",
    "\n",
    "# data_xerr_ref2 =  the error of the distance to the center of the galaxy (ref 2)\n",
    "data_xerr_ref2 = np.array([0.719,0.825,0.83,1.01,1.27,5.93,8.61,11.3,14.4,15.4,18.5,19.1,29.8,55.5])\n",
    "#                        81.2,133,173,122,197,274,37])\n",
    "\n",
    "# data_y_ref2  =  ratational velocity (ref 2)\n",
    "data_y_ref2 = np.array([182.,190,192,184,189,189,182,172,157,136,143,135,104,77.9,90.2])\n",
    "#                        61.3,76.6,104,107,143,168])\n",
    "\n",
    "# data_yerr_ref2  =  the error of the ratational velocity (ref 2)\n",
    "data_yerr_ref2 = np.array([35.2,49.6,49.9,54.5,64.7,59.9,70.6,75.1,64.5,56.3,49.6,58.2,64.1,64.2,110])\n",
    "#                           80.9,84.8,85.2,87.4,101,96.1])"
   ]
  },
  {
   "cell_type": "code",
   "execution_count": 214,
   "metadata": {},
   "outputs": [
    {
     "data": {
      "image/png": "[encoded data removed]",
      "text/plain": [
       "<matplotlib.figure.Figure at 0x11045bf90>"
      ]
     },
     "metadata": {},
     "output_type": "display_data"
    }
   ],
   "source": [
    "data_xerr = 0\n",
    "plt.figure()\n",
    "plt.errorbar(data_x_ref2,data_y_ref2,xerr=data_xerr,yerr=data_yerr_ref2,fmt='*')\n",
    "plt.xlabel(\"r (kpc)\")\n",
    "plt.ylabel('V (km/s)')\n",
    "plt.title(\"The measured rotational speed of the interstellar medium as a fucntion of the galactocentric radius\")\n",
    "plt.show()"
   ]
  },
  {
   "cell_type": "markdown",
   "metadata": {},
   "source": [
    "### The log likelihood is meant to capture how well a model is able to reproduce the data that it is meant to simulate.\n",
    "\n",
    "$log p(D|M, I) = constant* \\prod_{i}^{} log(\\sigma_i)  \\sum_{i}{}(\\frac{(v_{icalculated} - v_{imeasured})^2}{2 \\sigma_i^2}) $\n",
    "\n",
    "$constant* \\prod_{i}^{} log(\\sigma_i) $, this part doesn't matter much since they are the same for all. \n",
    "\n",
    "$log p(D|M, I) =  \\sum_{i}{}(\\frac{(v_{icalculated} - v_{imeasured})^2}{2 \\sigma_i^2}) $"
   ]
  },
  {
   "cell_type": "markdown",
   "metadata": {},
   "source": [
    "# ???????  PROBLEMS ARE PROBABLY HERE IN THE \n",
    "# SQRT(MAKE SURE STATEMENTS>) PART \n",
    "\n",
    " $ v_{calculated}  \\left( r \\right) \\propto    \\sqrt {  \\int_{0}^{R} \\rho (r) r dr  }  $\n",
    " I calculated $ \\rho(r)_{NFW} $ by hand it give =sqrt(-a^3/(a+r))\n",
    " \n",
    " Then I used if and else loop to select a's which give -a^3/(a+r) > =0\n",
    " \n",
    " "
   ]
  },
  {
   "cell_type": "code",
   "execution_count": 215,
   "metadata": {
    "collapsed": true
   },
   "outputs": [],
   "source": [
    "# Define the model we use to describe the data.\n",
    "\n",
    "def model_NFW(theta, x):\n",
    "    \n",
    "    # Calculate the mass between 0 and data_x by integrating the NFW distribution.\n",
    "    #\n",
    "    # Note: the mass defined here does not include the normalization constant rho0 (kg/kpc^3).\n",
    "    # The units of a are kpc.\n",
    "    # The units of the \"mass\" calculated here are thus kpc^3.\n",
    "    a = theta[0]\n",
    "    mass = 4.*np.pi*(a**3)*(np.log((a+x)/a)-x/(a+x))\n",
    "        \n",
    "    # Calculate the rotation velocity: vrot = theta[1]*sqrt(mass/x)\n",
    "    # The units of sqrt(mass/x) are kpc.\n",
    "    # The rotation velocity is equal to sqrt(G*rho0)*sqrt((M/rho0)/x) where M is the mass enclosed, \n",
    "    # rho0 is the normalization constant of the mass distribution, and x is the distance at which we\n",
    "    # calculate vrot.\n",
    "    # When we determine theta[1], we determine sqrt(G*rho0).\n",
    "    # The units of vrot are km/s.\n",
    "    # The units of sqrt(mass/x) are kpc.\n",
    "    # The units of theta[1] are thus (km/s)/kpc = (10^3 m)/s/(3.086E19 m) = 3.24E-17 1/s.\n",
    "    # Since theta[1] = sqrt(G*rho0) we can now determine rho0: rho0 = theta[1]^2/G.\n",
    "    # The units on the right-hand side are: (3.24E-17 1/s)^2/(m^3/(kg s^2)) = (3.24E-17)^2 kg/(m^3)\n",
    "    # To convert from kg/m^3 to kg/kpc^3, we multiply by (3.086E19)^3\n",
    "    # The normalization constant rho0 is thus (theta1[1]^2)/6.67E-11 * ((3.24E-17)^2 * (3.086E19)^3 kg/(kpc)^3 = \n",
    "    # (theta1[1]^2)*4.625E35 kg/(kpc)^3 = 2.312E5 Msun/(kpc)^3.\n",
    "    vrot = theta[1]*np.sqrt(mass/x) \n",
    "    \n",
    "    return vrot"
   ]
  },
  {
   "cell_type": "code",
   "execution_count": 216,
   "metadata": {
    "collapsed": true
   },
   "outputs": [],
   "source": [
    "# Define a likelihood function\n",
    "def loglike_NFW(theta):\n",
    "    \n",
    "    # Calculate the mass between 0 and data_x by integrating the NFW distribution.\n",
    "    a = theta[0]\n",
    "    mass = 4.*np.pi*(a**3)*(np.log((a+data_x_ref2)/a)-data_x_ref2/(a+data_x_ref2))\n",
    "        \n",
    "    # Calculate the rotation velocity.\n",
    "    vrot = theta[1]*np.sqrt(mass/data_x_ref2) \n",
    "    \n",
    "    # The y variable is the rotational velocity.\n",
    "    y = vrot\n",
    "    \n",
    "    # Calculate chisq\n",
    "    chisq= np.sum(((data_y_ref2 - y) / data_yerr_ref2)**2)\n",
    "    return -chisq / 2.\n",
    "\n"
   ]
  },
  {
   "cell_type": "markdown",
   "metadata": {},
   "source": [
    "### The prior: \n",
    "uniform priors with constraints from literature. \n",
    "  "
   ]
  },
  {
   "cell_type": "code",
   "execution_count": 217,
   "metadata": {},
   "outputs": [],
   "source": [
    "# It is a transformation from a space where variables are independently and uniformly distributed between 0 and 1 to the parameter space of interest. \n",
    "# \n",
    "\n",
    "\n",
    "def prior_transform_NFW(theta):\n",
    "    \n",
    "    # theta[0] in the range of [0,10] and theta[1] in the range of [0,300]\n",
    "    return  np.array([10, 300]) * theta\n",
    "    #return  np.array([10*theta[0],500*theta[1]])\n"
   ]
  },
  {
   "cell_type": "markdown",
   "metadata": {},
   "source": [
    "Therefore, we can calculated the posterior $ p(M|D,I) = \\frac{p(M|I) p(D|M, I)}{p(D|I)} $ and compare the posterior by MCMC and/or Nestle to do model comparison. \n",
    "\n",
    "By using the Nestle package, it will give us log evidence, numerical (sampling) error on logz, array of sample parameters, array of weights associated with each sampleand result.weights. "
   ]
  },
  {
   "cell_type": "code",
   "execution_count": 218,
   "metadata": {},
   "outputs": [
    {
     "name": "stdout",
     "output_type": "stream",
     "text": [
      "log evidence\n",
      "-4.14917224484\n",
      "numerical (sampling) error on logz\n",
      "0.179337351411\n",
      "array of sample parameters\n",
      "[[   9.83084467  289.54122179]\n",
      " [   8.16588809  293.42082007]\n",
      " [   8.78238879  260.66854455]\n",
      " ..., \n",
      " [   1.65774388   81.53436498]\n",
      " [   2.07340462   60.60841527]\n",
      " [   2.50187834   49.11149607]]\n",
      "array of weights associated with each sample\n",
      "[  0.00000000e+000   0.00000000e+000   0.00000000e+000   0.00000000e+000\n",
      "   0.00000000e+000   0.00000000e+000   0.00000000e+000   0.00000000e+000\n",
      "   0.00000000e+000   0.00000000e+000   0.00000000e+000   0.00000000e+000\n",
      "   0.00000000e+000   0.00000000e+000   0.00000000e+000   0.00000000e+000\n",
      "   0.00000000e+000   0.00000000e+000   0.00000000e+000   0.00000000e+000\n",
      "   0.00000000e+000   0.00000000e+000   0.00000000e+000   0.00000000e+000\n",
      "   0.00000000e+000   0.00000000e+000   0.00000000e+000   0.00000000e+000\n",
      "   0.00000000e+000   0.00000000e+000   0.00000000e+000   0.00000000e+000\n",
      "   0.00000000e+000   0.00000000e+000   0.00000000e+000   0.00000000e+000\n",
      "   0.00000000e+000   0.00000000e+000   0.00000000e+000   0.00000000e+000\n",
      "   0.00000000e+000   0.00000000e+000   0.00000000e+000   0.00000000e+000\n",
      "   0.00000000e+000   0.00000000e+000   0.00000000e+000   0.00000000e+000\n",
      "   0.00000000e+000   0.00000000e+000   0.00000000e+000   0.00000000e+000\n",
      "   0.00000000e+000   0.00000000e+000   0.00000000e+000   0.00000000e+000\n",
      "   0.00000000e+000   0.00000000e+000   0.00000000e+000   0.00000000e+000\n",
      "   0.00000000e+000   0.00000000e+000   0.00000000e+000   0.00000000e+000\n",
      "   0.00000000e+000   0.00000000e+000   0.00000000e+000   0.00000000e+000\n",
      "   0.00000000e+000   0.00000000e+000   0.00000000e+000   0.00000000e+000\n",
      "   2.12448228e-322   1.75986519e-315   7.11039960e-302   7.50534450e-265\n",
      "   5.18158542e-260   6.61193699e-253   2.76654910e-248   6.82041064e-239\n",
      "   1.06240583e-226   2.75252774e-207   1.86365197e-190   7.33731258e-189\n",
      "   9.16312299e-171   1.53463526e-164   2.42905348e-147   1.67378776e-139\n",
      "   7.60356880e-139   1.46842725e-114   1.94969914e-113   8.61525980e-109\n",
      "   2.47282481e-099   4.77601423e-094   3.37230027e-091   5.26196526e-085\n",
      "   5.25753384e-084   1.76085617e-080   1.06580847e-078   3.33438758e-072\n",
      "   5.54690053e-068   6.18436723e-068   3.90459589e-065   3.20251767e-063\n",
      "   7.24581291e-057   1.07057164e-055   4.55109263e-055   3.44510255e-051\n",
      "   4.66854465e-050   2.57244029e-048   4.93084784e-048   6.04465321e-047\n",
      "   1.21778911e-046   2.43037652e-042   3.34249129e-042   6.41849281e-042\n",
      "   2.40166915e-040   5.76480332e-039   1.18505809e-037   3.55292373e-036\n",
      "   6.84456720e-035   9.66980134e-031   1.33988188e-030   4.24080457e-030\n",
      "   5.54489266e-030   2.78928915e-029   8.49054069e-029   3.55585600e-028\n",
      "   4.17424638e-028   6.33325853e-028   6.34544977e-028   9.36356678e-028\n",
      "   8.37383764e-027   1.05279811e-026   1.68279166e-026   2.04855948e-026\n",
      "   2.59178275e-026   3.47642020e-026   8.20958042e-026   1.20847159e-025\n",
      "   6.07626272e-025   6.54850769e-025   9.61157416e-025   1.00367013e-024\n",
      "   1.65814100e-024   2.56799925e-024   3.08584710e-024   9.08339197e-024\n",
      "   9.24553659e-024   1.14231501e-023   1.35160218e-023   2.39987687e-023\n",
      "   3.27641496e-023   6.18687807e-023   3.65234588e-022   3.87938660e-022\n",
      "   6.26395505e-022   1.72568603e-021   1.82566843e-021   1.95637313e-021\n",
      "   1.98924679e-020   1.09632713e-019   3.30054809e-019   3.27740225e-019\n",
      "   5.49370136e-019   5.50208368e-019   7.06965283e-019   7.05799021e-019\n",
      "   1.46741964e-018   1.92483061e-018   2.19969455e-018   4.15659720e-018\n",
      "   7.40609310e-018   1.41087605e-017   1.23711205e-016   1.22715989e-016\n",
      "   1.57555831e-016   2.44917079e-016   3.26114270e-016   3.74110871e-016\n",
      "   1.22873154e-015   1.28170331e-015   1.33026764e-015   1.34216269e-015\n",
      "   2.08605465e-015   5.46391938e-015   7.76652091e-015   1.19465089e-014\n",
      "   1.34305991e-014   1.72900531e-014   2.98124246e-014   4.61612965e-014\n",
      "   6.07334258e-014   1.08973180e-013   1.12450817e-013   1.50824419e-013\n",
      "   1.66882096e-013   4.36196079e-013   6.82213093e-013   1.41811725e-012\n",
      "   1.44843436e-012   3.37664836e-012   5.89145209e-012   5.85862306e-012\n",
      "   7.17770186e-012   7.18113719e-012   9.13922347e-012   1.53763871e-011\n",
      "   1.53789268e-011   6.95379395e-011   9.64101778e-011   1.31411142e-010\n",
      "   1.45570110e-010   1.53664357e-010   1.57410859e-010   1.68224392e-010\n",
      "   2.11263127e-010   2.18047799e-010   2.66088152e-010   2.98817880e-010\n",
      "   3.65764091e-010   6.03067021e-010   3.69040911e-009   3.68482480e-009\n",
      "   4.42535817e-009   5.50022366e-009   8.69375845e-009   8.72401352e-009\n",
      "   1.01441050e-008   1.93465034e-008   3.10185480e-008   3.84197754e-008\n",
      "   5.55762952e-008   7.09890908e-008   7.05702164e-008   7.70353703e-008\n",
      "   9.47557512e-008   1.12704964e-007   1.49051450e-007   9.97657013e-007\n",
      "   1.23611053e-006   2.37287233e-006   2.44599320e-006   2.62073986e-006\n",
      "   3.09415348e-006   3.35171934e-006   3.77480602e-006   4.77144857e-006\n",
      "   5.35597773e-006   6.43117417e-006   6.38018852e-006   7.39636071e-006\n",
      "   7.67364811e-006   8.85776761e-006   9.77663960e-006   9.75693202e-006\n",
      "   1.03777066e-005   1.04773612e-005   1.56520173e-005   1.65603986e-005\n",
      "   1.71881665e-005   2.03333732e-005   2.26654875e-005   2.51100052e-005\n",
      "   2.55098676e-005   2.54240526e-005   3.77896507e-005   5.53121666e-005\n",
      "   6.00592811e-005   7.29484023e-005   8.12841202e-005   8.86795044e-005\n",
      "   9.99113553e-005   1.10058669e-004   1.34638630e-004   1.42324017e-004\n",
      "   1.49429803e-004   1.71586812e-004   1.71882335e-004   1.79077536e-004\n",
      "   1.87649958e-004   2.67217400e-004   2.79473023e-004   2.86503440e-004\n",
      "   3.02201273e-004   3.50570949e-004   4.05915713e-004   4.04636738e-004\n",
      "   4.59037195e-004   4.72979802e-004   5.28384511e-004   5.86348931e-004\n",
      "   5.86004542e-004   6.36682588e-004   6.75075951e-004   6.88658773e-004\n",
      "   7.42802286e-004   7.80709063e-004   7.81057663e-004   7.74875848e-004\n",
      "   8.08123972e-004   8.22578618e-004   8.91893927e-004   8.87599434e-004\n",
      "   9.32163225e-004   9.86973355e-004   1.11460316e-003   1.20086335e-003\n",
      "   1.29330615e-003   1.28092390e-003   1.46746418e-003   1.62193001e-003\n",
      "   1.67855071e-003   1.69853463e-003   2.02598870e-003   2.02126636e-003\n",
      "   2.04515768e-003   2.02817655e-003   2.11244008e-003   2.10703145e-003\n",
      "   2.08790674e-003   2.20756961e-003   2.23738280e-003   2.31756431e-003\n",
      "   2.30661836e-003   2.41501456e-003   2.53327087e-003   2.54236492e-003\n",
      "   2.58351665e-003   2.68743297e-003   2.66093078e-003   2.67013588e-003\n",
      "   2.65629882e-003   2.68490194e-003   2.68396409e-003   2.76743229e-003\n",
      "   2.75940052e-003   2.73866188e-003   3.06791829e-003   3.06463080e-003\n",
      "   3.05454481e-003   3.18586649e-003   3.16606613e-003   3.17013080e-003\n",
      "   3.35159927e-003   3.39183088e-003   3.40632065e-003   3.38692646e-003\n",
      "   3.35446616e-003   3.50671114e-003   3.51692525e-003   3.53393789e-003\n",
      "   3.60681959e-003   3.58379891e-003   3.57000396e-003   3.58920673e-003\n",
      "   3.72208737e-003   3.87145657e-003   3.85681529e-003   3.97596895e-003\n",
      "   4.02237973e-003   4.17612594e-003   4.27723029e-003   4.35453622e-003\n",
      "   4.31412009e-003   4.29944464e-003   4.26196735e-003   4.24299330e-003\n",
      "   4.24120539e-003   4.24714651e-003   4.27584337e-003   4.34484249e-003\n",
      "   4.37455658e-003   4.40912234e-003   4.46789077e-003   4.45031001e-003\n",
      "   4.50855843e-003   4.48451561e-003   4.45203957e-003   4.41273014e-003\n",
      "   4.38651819e-003   4.40820598e-003   4.41083602e-003   4.38131804e-003\n",
      "   4.34442664e-003   4.40497971e-003   4.41246737e-003   4.47832348e-003\n",
      "   4.52874503e-003   4.53883507e-003   4.55355377e-003   4.54953938e-003\n",
      "   4.67237251e-003   4.62946030e-003   4.61340103e-003   4.57806617e-003\n",
      "   4.56594584e-003   4.56382951e-003   4.52425182e-003   4.53966336e-003\n",
      "   4.49484905e-003   4.46821579e-003   4.45135494e-003   4.41856682e-003\n",
      "   4.46857545e-003   4.43566899e-003   4.46308272e-003   4.43262160e-003\n",
      "   4.42360205e-003   4.38636472e-003   4.38060127e-003   4.39373273e-003\n",
      "   4.35485340e-003   4.35204565e-003   4.32698841e-003   4.32390960e-003\n",
      "   4.30294899e-003   4.28631467e-003   4.28841728e-003   4.28478896e-003\n",
      "   4.27762565e-003   4.25844741e-003   4.22305656e-003   4.19791740e-003\n",
      "   4.15706232e-003   4.15502076e-003   4.11368401e-003   4.07422025e-003\n",
      "   4.07123252e-003   4.04051515e-003   4.05771582e-003   4.01791145e-003\n",
      "   3.97841569e-003   3.98039517e-003   4.03814560e-003   4.03255274e-003\n",
      "   3.99387063e-003   3.96853940e-003   3.93547904e-003   3.89750433e-003\n",
      "   3.85887736e-003   3.82451436e-003   3.80260928e-003   3.77317822e-003\n",
      "   3.74351780e-003   3.73301049e-003   3.71857055e-003   3.68206749e-003\n",
      "   3.65291449e-003   3.61826681e-003   3.61475423e-003   3.58862946e-003\n",
      "   3.57396775e-003   3.54503977e-003   3.51194555e-003   3.47725386e-003\n",
      "   3.47232850e-003   3.44994223e-003   3.41958074e-003   3.40943678e-003\n",
      "   3.37983889e-003   3.35604972e-003   3.32967456e-003   3.30033486e-003\n",
      "   3.27210398e-003   3.27836541e-003   3.24647974e-003   3.21729865e-003\n",
      "   3.19303939e-003   3.18186027e-003   3.19909968e-003   3.16771702e-003\n",
      "   3.15168943e-003   3.12672946e-003   3.10316552e-003   3.09263618e-003\n",
      "   3.07269113e-003   3.04664295e-003   3.03341247e-003   3.00403194e-003\n",
      "   2.97664455e-003   3.21666220e-003   3.93809958e-003   4.02246642e-003\n",
      "   3.89452374e-003   2.97878112e-003   3.73628831e-003   4.14333940e-003\n",
      "   3.00615201e-003   3.43470447e-003   3.03660559e-003   3.69075481e-003\n",
      "   3.71483458e-003   4.14721794e-003   3.77245584e-003   3.85370540e-003\n",
      "   2.99446505e-003   4.11529985e-003   2.97499702e-003   3.01445842e-003\n",
      "   3.08489507e-003   3.54049286e-003   3.26651475e-003   4.12904031e-003\n",
      "   3.23008717e-003   3.68581341e-003   4.05506878e-003   3.37840737e-003\n",
      "   4.15287425e-003   3.04366890e-003   3.64144191e-003   3.29292237e-003\n",
      "   3.87267989e-003   3.45923731e-003   3.13079774e-003   3.12405691e-003\n",
      "   3.16096544e-003   3.60421308e-003   3.08412700e-003   3.42222862e-003\n",
      "   3.13838640e-003   4.05552666e-003   3.21277015e-003   3.08237350e-003\n",
      "   3.50554996e-003   3.04759228e-003   3.60425431e-003   3.55362570e-003\n",
      "   3.79630117e-003   3.02622590e-003   3.27396176e-003   2.96778455e-003\n",
      "   3.35220439e-003   3.02314646e-003   3.40878159e-003   3.53029530e-003\n",
      "   3.19950986e-003   3.39842916e-003   3.45714881e-003   4.04974964e-003\n",
      "   4.14865102e-003   4.02943091e-003   3.34920469e-003   3.14677500e-003\n",
      "   3.42433867e-003   3.37495562e-003   4.04951739e-003   4.03920499e-003\n",
      "   3.84821756e-003   3.15939449e-003   3.97740831e-003   3.90048090e-003\n",
      "   3.03867258e-003   3.74253576e-003   3.30447573e-003   2.99037068e-003\n",
      "   3.30274866e-003   4.00086452e-003   3.90572992e-003   3.80099086e-003\n",
      "   3.22985647e-003   3.15321711e-003   3.85650805e-003   3.86735101e-003\n",
      "   3.79143640e-003   3.43565567e-003   4.06032938e-003   3.17283453e-003\n",
      "   3.39933879e-003   4.03002824e-003   3.02016832e-003   4.06911025e-003\n",
      "   3.94911324e-003   3.66389778e-003   3.58776018e-003   3.17598020e-003\n",
      "   3.57138693e-003   3.31579896e-003   3.22151808e-003   3.62892101e-003\n",
      "   3.89973658e-003]\n"
     ]
    }
   ],
   "source": [
    "# Run nested sampling.\n",
    "result = nestle.sample(loglike_NFW, prior_transform_NFW, 2)\n",
    "#                      method='multi', npoints=1000)\n",
    "\n",
    "print ('log evidence')\n",
    "print (result.logz)\n",
    "\n",
    "print ('numerical (sampling) error on logz')\n",
    "print (result.logzerr)   \n",
    "       \n",
    "print ('array of sample parameters')\n",
    "print (result.samples)  \n",
    "       \n",
    "print ('array of weights associated with each sample')\n",
    "print (result.weights)\n"
   ]
  },
  {
   "cell_type": "code",
   "execution_count": 219,
   "metadata": {},
   "outputs": [
    {
     "name": "stdout",
     "output_type": "stream",
     "text": [
      "core radius a =  3.26 +/-  2.27 kpc\n",
      "normalization factor = 70.49 +/- 61.65\n",
      "Halo density normalization constant = 1.63e+07 +/- 1.43e+07 Msun/kpc^3\n",
      "Halo density in our solor system = 8.75e+07 Msun/kpc^3.\n",
      "Halo density in our solor system = 3.34e+03 GeV/c^2/liter.\n"
     ]
    },
    {
     "data": {
      "image/png": "[encoded data removed]",
      "text/plain": [
       "<matplotlib.figure.Figure at 0x10ecf7b90>"
      ]
     },
     "metadata": {},
     "output_type": "display_data"
    },
    {
     "data": {
      "image/png": "[encoded data removed]",
      "text/plain": [
       "<matplotlib.figure.Figure at 0x11028fc50>"
      ]
     },
     "metadata": {},
     "output_type": "display_data"
    }
   ],
   "source": [
    "data_xerr = 0\n",
    "p, cov = nestle.mean_and_cov(result.samples, result.weights)\n",
    "\n",
    "print(\"core radius a = {0:5.2f} +/- {1:5.2f} kpc\".format(p[0], np.sqrt(cov[0, 0])))\n",
    "print(\"normalization factor = {0:5.2f} +/- {1:5.2f}\".format(p[1], np.sqrt(cov[1, 1])))\n",
    "print(\"Halo density normalization constant = {0:5.2e} +/- {1:5.2e} Msun/kpc^3\".format(2.312E5*p[1], 2.312E5*np.sqrt(cov[1, 1])))\n",
    "\n",
    "# Note: in order to convert the model to units of Msun/kpc^3 we multiply its value by 2.312E5.\n",
    "# See comments in the model definition for details.\n",
    "print(\"Halo density in our solor system = {0:5.2e} Msun/kpc^3.\".format(2.312E5*model_NFW(p, 8)))\n",
    "\n",
    "# Note: 1 Msun/kpc^3 = 3.817E-2 (GeV/c^2)/m^3 = 3.817E-5 (GeV/c^2)/(dm^3)\n",
    "# 1 dm^3 = 1 liter.\n",
    "# 3 WIMPS/liter would be 300 GeV/c^2/liter\n",
    "print(\"Halo density in our solor system = {0:5.2e} GeV/c^2/liter.\".format(3.817E-5*2.312E5*model_NFW(p, 8)))\n",
    "\n",
    "plt.figure()\n",
    "plt.errorbar(data_x_ref2,data_y_ref2,xerr=data_xerr,yerr=data_yerr_ref2,fmt='*')\n",
    "plt.xlabel(\"r (kpc)\")\n",
    "plt.ylabel('V (km/s)')\n",
    "plt.title(\"The measured rotational speed of the interstellar medium as a fucntion of the galactocentric radius\")\n",
    "plt.plot([5.,200.],model_NFW(p, np.array([5.,200.])))\n",
    "plt.show()\n",
    "\n",
    "fig = corner.corner(result.samples, weights=result.weights, labels=['a', 'rho0'],\n",
    "                    range=[0.99999, 0.99999], bins=30)\n",
    "plt.show()"
   ]
  },
  {
   "cell_type": "code",
   "execution_count": null,
   "metadata": {
    "collapsed": true
   },
   "outputs": [],
   "source": []
  },
  {
   "cell_type": "code",
   "execution_count": 220,
   "metadata": {
    "collapsed": true
   },
   "outputs": [],
   "source": [
    "\n",
    "#  to complete for later calculation \n",
    "\n",
    "def loglike_IsothermalProfile (theta):\n",
    "    #theta[1] is the constant proportional factor \n",
    "    density_IsothermalProfile =   1/( 1+data_x /theta[0] )**2 \n",
    "    y=thetha[1] * 1\n",
    "    chisq = np.sum(((data_y - y) / data_yerr)**2)\n",
    "    return -chisq / 2.\n",
    "\n",
    "def loglike_EinastoProfile(theta):\n",
    "    #theta[2] is the constant proportional factor \n",
    "    lensity_EinastoProfile = np.exp( -  theta[0]*  data_x**theta[1] ) \n",
    "    y=theta[2] *1\n",
    "    chisq = np.sum(((data_y - y) / data_yerr)**2)\n",
    "    return -chisq / 2.\n",
    "\n",
    "def loglike_GeneralizedDMProfile(theta):\n",
    "    #theta[4] is the constant proportional factor \n",
    "\n",
    "    lensity_GeneralizedDMProfile = 1/(    (data_x /theta[0])**theta[1] *( 1+ (data_x /theta[0])**theta[2] )**2 ) **((theta[3] - theta[1])/theta[2] )\n",
    "    y=theta[4] * 1\n",
    "    chisq = np.sum(((data_y - y) / data_yerr)**2)\n",
    "    return -chisq / 2.\n",
    "\n",
    "\n",
    "\n"
   ]
  }
 ],
 "metadata": {
  "anaconda-cloud": {},
  "kernelspec": {
   "display_name": "Python 2",
   "language": "python",
   "name": "python2"
  },
  "language_info": {
   "codemirror_mode": {
    "name": "ipython",
    "version": 2
   },
   "file_extension": ".py",
   "mimetype": "text/x-python",
   "name": "python",
   "nbconvert_exporter": "python",
   "pygments_lexer": "ipython2",
   "version": "2.7.13"
  }
 },
 "nbformat": 4,
 "nbformat_minor": 2
}
