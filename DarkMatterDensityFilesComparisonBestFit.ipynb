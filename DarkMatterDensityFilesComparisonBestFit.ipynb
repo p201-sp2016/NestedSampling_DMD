{
 "cells": [
  {
   "cell_type": "markdown",
   "metadata": {},
   "source": [
    "### In this project, we will do model comparison on four Dark Matter density profiles. We will test which models fits the galaxy rotational curve best."
   ]
  },
  {
   "cell_type": "markdown",
   "metadata": {},
   "source": [
    "### Model\n",
    "Model \n",
    "\n",
    "$ M $ = The rotational curve calculated with the existence of dark matter and the dark matter density is given by the density profile. We have four dark matter density files and give us 4 models to compare. \n",
    "\n",
    "The posterior distribution is calculated as, $ p(M|D,I) = \\frac{p(M|I) p(D|M, I)}{p(D|I)} $"
   ]
  },
  {
   "cell_type": "markdown",
   "metadata": {},
   "source": [
    "\n",
    "\n",
    "### The four Dark Matter density profiles models: \n",
    "\n",
    "Note that\n",
    "\n",
    "r: galactocentric radius\n",
    "\n",
    "$ \\rho( r ) $ : Dark Matter Density as a function of galactocentric radius"
   ]
  },
  {
   "cell_type": "markdown",
   "metadata": {},
   "source": [
    "\n",
    "### (1) NFW profile :\n",
    "\n",
    " $ \\rho \\left( r \\right) \\propto \\frac{1}{{\\left( r/a \\right)}{\\left[ 1~+~{{\\left( r/a \\right)}} \\right]}^{2}} $\n",
    "\n",
    "\n",
    "### (2) Isothermal profile:\n",
    "\n",
    "  $  \\rho \\left( r \\right) \\propto \\frac{1}{{\\left[ 1~+~{{\\left( r/a \\right)}^{2}} \\right]}} $\n",
    "\n",
    "\n",
    "### (3) Einasto profile :\n",
    "\n",
    " $ \\rho \\left( r \\right) \\propto \\exp^{- A r ^\\alpha} $\n",
    "\n",
    "\n",
    "### (4) Generalized DM profile :\n",
    "\n",
    " $ \\rho \\left( r \\right) \\propto    \\frac{1}{{\\left( r/a \\right)}^{\\gamma}{\\left[ 1~+~{{\\left( r/a \\right)}^{\\alpha}} \\right]}^{ \\frac{(\\beta - \\gamma)}{\\alpha}}} $\n",
    "\n"
   ]
  },
  {
   "cell_type": "markdown",
   "metadata": {},
   "source": [
    "### We can calcuate rotational curve from Dark Matter density profiles, by assuming dark matter distribution is spherically symmetric"
   ]
  },
  {
   "cell_type": "markdown",
   "metadata": {},
   "source": [
    "$ \\frac{GMm}{4 \\pi  R^2} = \\frac {m v^2}{R}$  where $M=\\int_{R_o}^{R} \\rho (r) 4 \\pi  R^2 dr$"
   ]
  },
  {
   "cell_type": "markdown",
   "metadata": {},
   "source": [
    "$v_{calculated} = \\sqrt { \\frac{ G   \\int_{R_o}^{R} \\rho (r) 4 \\pi  r^2 dr} {4 \\pi  r}  }   $"
   ]
  },
  {
   "cell_type": "code",
   "execution_count": null,
   "metadata": {
    "collapsed": true
   },
   "outputs": [],
   "source": []
  },
  {
   "cell_type": "code",
   "execution_count": 1,
   "metadata": {
    "collapsed": true
   },
   "outputs": [],
   "source": [
    "  #  !!!! pip install nestle  (from terminal)\n",
    "    \n",
    "# !conda install -y -c conda-forge nestle (somehow couldn't find nestle)"
   ]
  },
  {
   "cell_type": "code",
   "execution_count": 2,
   "metadata": {
    "collapsed": true
   },
   "outputs": [],
   "source": [
    "import numpy as np\n",
    "import nestle\n",
    "import math\n",
    "\n",
    "import matplotlib.pyplot as plt\n",
    "import matplotlib.animation as animation\n",
    "\n",
    "import corner\n",
    "\n",
    "from scipy.integrate import quad"
   ]
  },
  {
   "cell_type": "markdown",
   "metadata": {},
   "source": [
    "### The data will be used in this project is the measured rotational speed of the interstellar medium in our local galaxy, as shown in the following figure. "
   ]
  },
  {
   "cell_type": "code",
   "execution_count": 3,
   "metadata": {
    "collapsed": true
   },
   "outputs": [],
   "source": [
    "# Define the data for two references:\n",
    "\n",
    "# Reference 1: Bhattacharjee et. al.\n",
    "# Reference 2: Sofue\n",
    "    \n",
    "# Start with Reference 1: data_x_ref1, data_y_ref1, data_yerr_ref1\n",
    "    \n",
    "# data_x_ref1 =  distance to the center of the galaxy  (ref 1)\n",
    "data_x_ref1 = np.array([3.59,4.51,5.53,6.5,7.56,8.34,9.45,10.5,11.44,12.51,13.53,14.59,16.05,\n",
    "                        18.64,26.3,28.26,29.51,32.04,33.99,36.49,38.41,40.42,42.4,44.49,45.99,\n",
    "                        48.06,49.49,51.39,53.89,56.89,57.98,60.92,64.73,69.31,72.96,76.95,81.13,\n",
    "                        84.9,89.35,92.44,97.41,100.72,106.77,119.98,189.49])\n",
    "\n",
    "# data_y_ref1  =  rotational velocity (ref 1)\n",
    "# Note: data include contributions from visible and dark matter.\n",
    "# data_y_ref1 = np.array([223.11,247.88,253.14,270.95,267.8,270.52,235.58,249.72,261.96,284.3,\n",
    "#                        271.54,251.43,320.7,286.46,189.64,237.99,209.82,179.14,170.37,175.92,\n",
    "#                        191.57,197.59,192.79,213.22,179.39,213.03,178.57,183.31,157.89,191.76,\n",
    "#                        210.72,168.02,206.47,203.62,190.53,222.72,186.29,122.25,143.95,154.66,\n",
    "#                        184,108.68,137.15,150.18,125.01])\n",
    "\n",
    "# These data are obtained after subtracting the visual contributions to the rotational velocities\n",
    "# from Ref. 1.\n",
    "data_y_ref1 = np.array([182.351,212.708,218.647,238.775,235.111,238.346,198.399,215.818,230.733,\n",
    "                        256.824,243.72,222.39,299.806,265.399,165.518,220.557,190.686,158.188,\n",
    "                        149.533,157.278,175.491,182.846,178.383,200.914,165.077,201.653,165.244,\n",
    "                        170.852,143.95,181.07,201.227,156.553,197.805,195.422,182.192,216.004,\n",
    "                        178.631,110.79,134.848,146.516,177.562,97.7757,129.176,143.75,120.129])\n",
    "\n",
    "# data_yerr_ref1  =  the error of rotational velocity (ref 1)\n",
    "data_yerr_ref1 = np.array([2.43,2.99,1.69,2.19,0.96,0.66,8.44,13.44,11.71,17.5,15.57,25.6,25.27,\n",
    "                           101.18,6.74,11.54,9.16,6.65,6.93,6.62,11.73,14.12,5.92,17.17,11.23,\n",
    "                           24.72,17.63,23.58,19.57,24.35,29.81,25.67,36.27,40.89,40.98,74.37,\n",
    "                           66.53,36.46,29.49,67.23,72.86,40.99,53.17,25.46,37.32])\n",
    "\n",
    "\n",
    "\n",
    "# Continue with Reference 2: data_x_ref2, data_y_ref2, data_yerr_ref2\n",
    "\n",
    "# data_x_ref2 =  distance to the center of the galaxy (ref 2)\n",
    "data_x_ref2 = np.array([3.2,3.52,3.87,4.26,4.69,5.15,5.67,6.24,6.86,7.55,8.3,9.13,\n",
    "                        10.,11,12.2,13.4,14.7,18.5,24,31.2,40.6,52.8,68.6,89.2,116,151,196])\n",
    "#                        431,560,728,946,1230,1600])\n",
    "\n",
    "# data_xerr_ref2 =  the error of the distance to the center of the galaxy (ref 2)\n",
    "data_xerr_ref2 = np.array([0.232,0.251,0.282,0.306,0.349,0.355,0.421,0.426,0.521,0.464,0.587,0.691,\n",
    "                           0.719,0.825,0.83,1.01,1.27,5.93,8.61,11.3,14.4,15.4,18.5,19.1,29.8,55.5])\n",
    "#                        81.2,133,173,122,197,274,37])\n",
    "\n",
    "# data_y_ref2  =  ratational velocity (ref 2)\n",
    "# Note: data include contributions from visible and dark matter.\n",
    "# data_y_ref2 = np.array([197,201,207,211,209,208,208,209,207,205,200,\n",
    "#                        186,182.,190,192,184,189,189,182,172,157,136,143,135,104,77.9,90.2])\n",
    "#                        61.3,76.6,104,107,143,168])\n",
    "\n",
    "# These data are obtained after subtracting the visual contributions to the rotational velocities\n",
    "# from Ref. 2.\n",
    "data_y_ref2 = np.array([147.862,154.327,162.777,168.202,165.788,164.435,164.227,165.256,162.541,\n",
    "                        159.953,153.695,135.559,130.993,143.25,147.786,139.471,148.396,155.014,\n",
    "                        154.225,149.428,138.075,119.17,130.934,125.232,94.1345,67.578,83.5415])\n",
    "\n",
    "    \n",
    "# data_yerr_ref2  =  the error of the ratational velocity (ref 2)\n",
    "data_yerr_ref2 = np.array([7.79,7.97,10.1,8.43,6.87,8.38,12,16.6,13,9.65,15.8,24.2,\n",
    "                           35.2,49.6,49.9,54.5,64.7,59.9,70.6,75.1,64.5,56.3,49.6,58.2,64.1,64.2,110])\n",
    "#                           80.9,84.8,85.2,87.4,101,96.1])"
   ]
  },
  {
   "cell_type": "code",
   "execution_count": 4,
   "metadata": {
    "collapsed": false
   },
   "outputs": [
    {
     "data": {
      "image/png": "[encoded data removed]",
      "text/plain": [
       "<matplotlib.figure.Figure at 0x10c58c780>"
      ]
     },
     "metadata": {},
     "output_type": "display_data"
    }
   ],
   "source": [
    "data_xerr = 0\n",
    "plt.figure()\n",
    "plt.errorbar(data_x_ref1,data_y_ref1,xerr=data_xerr,yerr=data_yerr_ref1,fmt='*')\n",
    "plt.xlabel(\"r (kpc)\")\n",
    "plt.ylabel('V (km/s)')\n",
    "plt.title(\"The measured rotational speed of the interstellar medium as a fucntion of the galactocentric radius (reference 1)\")\n",
    "plt.show()"
   ]
  },
  {
   "cell_type": "code",
   "execution_count": 5,
   "metadata": {
    "collapsed": false
   },
   "outputs": [
    {
     "data": {
      "image/png": "[encoded data removed]",
      "text/plain": [
       "<matplotlib.figure.Figure at 0x10c6c76d8>"
      ]
     },
     "metadata": {},
     "output_type": "display_data"
    }
   ],
   "source": [
    "data_xerr = 0\n",
    "plt.figure()\n",
    "plt.errorbar(data_x_ref2,data_y_ref2,xerr=data_xerr,yerr=data_yerr_ref2,fmt='*')\n",
    "plt.xlabel(\"r (kpc)\")\n",
    "plt.ylabel('V (km/s)')\n",
    "plt.title(\"The measured rotational speed of the interstellar medium as a fucntion of the galactocentric radius (reference 2)\")\n",
    "plt.show()"
   ]
  },
  {
   "cell_type": "markdown",
   "metadata": {},
   "source": [
    "### The log likelihood is meant to capture how well a model is able to reproduce the data that it is meant to simulate.\n",
    "\n",
    "$log p(D|M, I) = constant* \\prod_{i}^{} log(\\sigma_i)  \\sum_{i}{}(\\frac{(v_{icalculated} - v_{imeasured})^2}{2 \\sigma_i^2}) $\n",
    "\n",
    "$constant* \\prod_{i}^{} log(\\sigma_i) $, this part doesn't matter much since they are the same for all. \n",
    "\n",
    "$log p(D|M, I) =  \\sum_{i}{}(\\frac{(v_{icalculated} - v_{imeasured})^2}{2 \\sigma_i^2}) $"
   ]
  },
  {
   "cell_type": "code",
   "execution_count": 6,
   "metadata": {
    "collapsed": true
   },
   "outputs": [],
   "source": [
    "# Define the model we use to describe the data.\n",
    "# The NFW model.\n",
    "\n",
    "def model_NFW(theta, x):\n",
    "    \n",
    "    # Calculate the mass between 0 and data_x by integrating the NFW distribution.\n",
    "    #\n",
    "    # Note: the mass defined here does not include the normalization constant rho0 (kg/kpc^3).\n",
    "    # The units of a are kpc.\n",
    "    # The units of the \"mass\" calculated here are thus kpc^3.\n",
    "    a = theta[0]\n",
    "    mass = 4.*np.pi*(a**3)*(np.log((a+x)/a)-x/(a+x))\n",
    "        \n",
    "    # Calculate the rotation velocity: vrot = theta[1]*sqrt(mass/x)\n",
    "    # The units of sqrt(mass/x) are kpc.\n",
    "    # The rotation velocity is equal to sqrt(G*rho0)*sqrt((M/rho0)/x) where M is the mass enclosed, \n",
    "    # rho0 is the normalization constant of the mass distribution, and x is the distance at which we\n",
    "    # calculate vrot.\n",
    "    # When we determine theta[1], we determine sqrt(G*rho0).\n",
    "    # The units of vrot are km/s.\n",
    "    # The units of sqrt(mass/x) are kpc.\n",
    "    # The units of theta[1] are thus (km/s)/kpc = (10^3 m)/s/(3.086E19 m) = 3.24E-17 1/s.\n",
    "    # Since theta[1] = sqrt(G*rho0) we can now determine rho0: rho0 = theta[1]^2/G.\n",
    "    # The units on the right-hand side are: (3.24E-17 1/s)^2/(m^3/(kg s^2)) = (3.24E-17)^2 kg/(m^3)\n",
    "    # To convert from kg/m^3 to kg/kpc^3, we multiply by (3.086E19)^3\n",
    "    # The normalization constant rho0 is thus (theta1[1]^2)/6.67E-11 * ((3.24E-17)^2 * (3.086E19)^3 kg/(kpc)^3 = \n",
    "    # (theta1[1]^2)*4.625E35 kg/(kpc)^3 = 2.312E5 Msun/(kpc)^3.\n",
    "    vrot = theta[1]*np.sqrt(mass/x) \n",
    "    \n",
    "    return vrot"
   ]
  },
  {
   "cell_type": "code",
   "execution_count": 7,
   "metadata": {
    "collapsed": true
   },
   "outputs": [],
   "source": [
    "# Define a likelihood function\n",
    "\n",
    "def loglike_NFW_ref1(theta):\n",
    "    \n",
    "    # Calculate the mass between 0 and data_x by integrating the NFW distribution.\n",
    "    a = theta[0]\n",
    "    mass = 4.*np.pi*(a**3)*(np.log((a+data_x_ref1)/a)-data_x_ref1/(a+data_x_ref1))\n",
    "        \n",
    "    # Calculate the rotation velocity.\n",
    "    vrot = theta[1]*np.sqrt(mass/data_x_ref1) \n",
    "        \n",
    "    # The y variable is the rotational velocity.\n",
    "    y = vrot\n",
    "    \n",
    "    # Calculate chisq\n",
    "    chisq= np.sum(((data_y_ref1 - y) / data_yerr_ref1)**2)\n",
    "    return -chisq / 2.\n",
    "\n"
   ]
  },
  {
   "cell_type": "code",
   "execution_count": 8,
   "metadata": {
    "collapsed": true
   },
   "outputs": [],
   "source": [
    "# Define a likelihood function\n",
    "def loglike_NFW_ref2(theta):\n",
    "    \n",
    "    # Calculate the mass between 0 and data_x by integrating the NFW distribution.\n",
    "    a = theta[0]\n",
    "    mass = 4.*np.pi*(a**3)*(np.log((a+data_x_ref2)/a)-data_x_ref2/(a+data_x_ref2))\n",
    "        \n",
    "    # Calculate the rotation velocity.\n",
    "    vrot = theta[1]*np.sqrt(mass/data_x_ref2) \n",
    "        \n",
    "    # The y variable is the rotational velocity.\n",
    "    y = vrot\n",
    "    \n",
    "    # Calculate chisq\n",
    "    chisq= np.sum(((data_y_ref2 - y) / data_yerr_ref2)**2)\n",
    "    return -chisq / 2.\n"
   ]
  },
  {
   "cell_type": "markdown",
   "metadata": {},
   "source": [
    "### The prior: \n",
    "uniform priors with constraints from literature. \n",
    "  "
   ]
  },
  {
   "cell_type": "code",
   "execution_count": 9,
   "metadata": {
    "collapsed": true
   },
   "outputs": [],
   "source": [
    "# It is a transformation from a space where variables are independently and uniformly distributed between 0 and 1 to the parameter space of interest. \n",
    "# \n",
    "\n",
    "def prior_transform_NFW(theta):\n",
    "    \n",
    "    # theta[0] in the range of [0,10] and theta[1] in the range of [0,300]\n",
    "    return  np.array([20, 300]) * theta\n"
   ]
  },
  {
   "cell_type": "markdown",
   "metadata": {},
   "source": [
    "Therefore, we can calculated the posterior $ p(M|D,I) = \\frac{p(M|I) p(D|M, I)}{p(D|I)} $ and compare the posterior by MCMC and/or Nestle to do model comparison. \n",
    "\n",
    "By using the Nestle package, it will give us log evidence, numerical (sampling) error on logz, array of sample parameters, array of weights associated with each sampleand result.weights. "
   ]
  },
  {
   "cell_type": "code",
   "execution_count": 17,
   "metadata": {
    "collapsed": false
   },
   "outputs": [
    {
     "name": "stdout",
     "output_type": "stream",
     "text": [
      "Number of iterations for Data in Reference 1\n",
      "1270\n",
      "log evidence for Data in Reference 1\n",
      "-292.806992476\n",
      "numerical (sampling) error on logz for Data in Reference 1\n",
      "0.3292482324218993\n",
      "array of sample parameters for Data in Reference 1\n",
      "[[  19.46445927  498.54604091]\n",
      " [  18.67516636  440.92059205]\n",
      " [  14.82833415  491.44854005]\n",
      " ..., \n",
      " [   4.30039209   33.04273631]\n",
      " [   4.27516669   33.14986089]\n",
      " [   4.27940275   33.1458744 ]]\n",
      "Number of iterations for Data in Reference 2\n",
      "878\n",
      "log evidence for Data in Reference 2\n",
      "-10.7206316116\n",
      "numerical (sampling) error on logz for Data in Reference 2\n",
      "0.261963853149042\n",
      "array of sample parameters for Data in Reference 2\n",
      "[[  18.86053811  450.83322305]\n",
      " [  18.45486385  433.15902384]\n",
      " [  13.9440733   473.44673137]\n",
      " ..., \n",
      " [   2.45824175   40.19479861]\n",
      " [   2.43799369   40.51141821]\n",
      " [   2.61002135   37.49864559]]\n"
     ]
    }
   ],
   "source": [
    "# Run nested sampling.\n",
    "\n",
    "# Start with reference 1\n",
    "\n",
    "result_ref1 = nestle.sample(loglike_NFW_ref1, prior_transform_NFW, 2)\n",
    "\n",
    "print ('Number of iterations for Data in Reference 1')\n",
    "print (result_ref1.niter)\n",
    "\n",
    "print ('log evidence for Data in Reference 1')\n",
    "print (result_ref1.logz)\n",
    "\n",
    "print ('numerical (sampling) error on logz for Data in Reference 1')\n",
    "print (result_ref1.logzerr)   \n",
    "       \n",
    "print ('array of sample parameters for Data in Reference 1')\n",
    "print (result_ref1.samples)  \n",
    "       \n",
    "#print ('array of weights associated with each sample for Data in Reference 1')\n",
    "#print (result_ref1.weights)\n",
    "\n",
    "# Continue with reference 2\n",
    "\n",
    "result_ref2 = nestle.sample(loglike_NFW_ref2, prior_transform_NFW, 2)\n",
    "\n",
    "print ('Number of iterations for Data in Reference 2')\n",
    "print (result_ref2.niter)\n",
    "\n",
    "print ('log evidence for Data in Reference 2')\n",
    "print (result_ref2.logz)\n",
    "\n",
    "print ('numerical (sampling) error on logz for Data in Reference 2')\n",
    "print (result_ref2.logzerr)   \n",
    "       \n",
    "print ('array of sample parameters for Data in Reference 2')\n",
    "print (result_ref2.samples)  \n",
    "       \n",
    "#print ('array of weights associated with each sample for Data in Reference 2')\n",
    "#print (result_ref2.weights)\n",
    "\n"
   ]
  },
  {
   "cell_type": "code",
   "execution_count": 18,
   "metadata": {
    "collapsed": false
   },
   "outputs": [
    {
     "name": "stdout",
     "output_type": "stream",
     "text": [
      "Results based on fits to the data from reference 1:\n",
      "Core radius a =  4.32 +/-  0.15 kpc\n",
      "Normalization factor = 32.91 +/-  1.07\n",
      "Halo density normalization constant = 7.61e+06 +/- 2.47e+05 Msun/kpc^3\n",
      "Halo density in our solor system = 5.40e+07 Msun/kpc^3.\n",
      "Halo density in our solor system = 2.06e+03 GeV/c^2/liter.\n"
     ]
    },
    {
     "data": {
      "image/png": "[encoded data removed]",
      "text/plain": [
       "<matplotlib.figure.Figure at 0x10faada58>"
      ]
     },
     "metadata": {},
     "output_type": "display_data"
    },
    {
     "data": {
      "image/png": "[encoded data removed]",
      "text/plain": [
       "<matplotlib.figure.Figure at 0x10fab89b0>"
      ]
     },
     "metadata": {},
     "output_type": "display_data"
    },
    {
     "name": "stdout",
     "output_type": "stream",
     "text": [
      "Results based on fits to the data from reference 1:\n",
      "Core radius a =  2.87 +/-  0.80 kpc\n",
      "Normalization factor = 37.28 +/- 10.93\n",
      "Halo density normalization constant = 8.62e+06 +/- 2.53e+06 Msun/kpc^3\n",
      "Halo density in our solor system = 4.05e+07 Msun/kpc^3.\n",
      "Halo density in our solor system = 1.55e+03 GeV/c^2/liter.\n"
     ]
    },
    {
     "data": {
      "image/png": "[encoded data removed]",
      "text/plain": [
       "<matplotlib.figure.Figure at 0x10faae0b8>"
      ]
     },
     "metadata": {},
     "output_type": "display_data"
    },
    {
     "data": {
      "image/png": "[encoded data removed]",
      "text/plain": [
       "<matplotlib.figure.Figure at 0x10c620438>"
      ]
     },
     "metadata": {},
     "output_type": "display_data"
    }
   ],
   "source": [
    "data_xerr = 0\n",
    "\n",
    "# Get the results of the fit and the uncertainties in the fit parameters.\n",
    "p_ref1, cov_ref1 = nestle.mean_and_cov(result_ref1.samples, result_ref1.weights)\n",
    "p_ref2, cov_ref2 = nestle.mean_and_cov(result_ref2.samples, result_ref2.weights)\n",
    "\n",
    "# Start with printing the results of the fit based on the data from reference 1\n",
    "print(\"Results based on fits to the data from reference 1:\")\n",
    "print(\"Core radius a = {0:5.2f} +/- {1:5.2f} kpc\".format(p_ref1[0], np.sqrt(cov_ref1[0, 0])))\n",
    "print(\"Normalization factor = {0:5.2f} +/- {1:5.2f}\".format(p_ref1[1], np.sqrt(cov_ref1[1, 1])))\n",
    "print(\"Halo density normalization constant = {0:5.2e} +/- {1:5.2e} Msun/kpc^3\".format(2.312E5*p_ref1[1], 2.312E5*np.sqrt(cov_ref1[1, 1])))\n",
    "\n",
    "# Note: in order to convert the model to units of Msun/kpc^3 we multiply its value by 2.312E5.\n",
    "# See comments in the model definition for details.\n",
    "print(\"Halo density in our solor system = {0:5.2e} Msun/kpc^3.\".format(2.312E5*model_NFW(p_ref1, 8)))\n",
    "\n",
    "# Note: 1 Msun/kpc^3 = 3.817E-2 (GeV/c^2)/m^3 = 3.817E-5 (GeV/c^2)/(dm^3)\n",
    "# 1 dm^3 = 1 liter.\n",
    "# 3 WIMPS/liter would be 300 GeV/c^2/liter\n",
    "print(\"Halo density in our solor system = {0:5.2e} GeV/c^2/liter.\".format(3.817E-5*2.312E5*model_NFW(p_ref1, 8)))\n",
    "\n",
    "plt.figure()\n",
    "plt.errorbar(data_x_ref1,data_y_ref1,xerr=data_xerr,yerr=data_yerr_ref1,fmt='*')\n",
    "plt.xlabel(\"r (kpc)\")\n",
    "plt.ylabel('V (km/s)')\n",
    "plt.title(\"The measured rotational speed of the interstellar medium as a fucntion of the galactocentric radius (reference 1)\")\n",
    "xplot = [5+5*i for i in range(40)]\n",
    "plt.semilogx(xplot,model_NFW(p_ref1, xplot))   # use semilogx !!!\n",
    "plt.show()\n",
    "\n",
    "fig = corner.corner(result_ref1.samples, weights=result_ref1.weights, labels=['a', 'rho0'],\n",
    "                    range=[0.99999, 0.99999], bins=30)\n",
    "plt.show()\n",
    "\n",
    "\n",
    "# Continue with printing the results of the fit based on the data from reference 2\n",
    "print(\"Results based on fits to the data from reference 1:\")\n",
    "print(\"Core radius a = {0:5.2f} +/- {1:5.2f} kpc\".format(p_ref2[0], np.sqrt(cov_ref2[0, 0])))\n",
    "print(\"Normalization factor = {0:5.2f} +/- {1:5.2f}\".format(p_ref2[1], np.sqrt(cov_ref2[1, 1])))\n",
    "print(\"Halo density normalization constant = {0:5.2e} +/- {1:5.2e} Msun/kpc^3\".format(2.312E5*p_ref2[1], 2.312E5*np.sqrt(cov_ref2[1, 1])))\n",
    "\n",
    "# Note: in order to convert the model to units of Msun/kpc^3 we multiply its value by 2.312E5.\n",
    "# See comments in the model definition for details.\n",
    "print(\"Halo density in our solor system = {0:5.2e} Msun/kpc^3.\".format(2.312E5*model_NFW(p_ref2, 8)))\n",
    "\n",
    "# Note: 1 Msun/kpc^3 = 3.817E-2 (GeV/c^2)/m^3 = 3.817E-5 (GeV/c^2)/(dm^3)\n",
    "# 1 dm^3 = 1 liter.\n",
    "# 3 WIMPS/liter would be 300 GeV/c^2/liter\n",
    "print(\"Halo density in our solor system = {0:5.2e} GeV/c^2/liter.\".format(3.817E-5*2.312E5*model_NFW(p_ref2, 8)))\n",
    "\n",
    "plt.figure()\n",
    "plt.errorbar(data_x_ref2,data_y_ref2,xerr=data_xerr,yerr=data_yerr_ref2,fmt='*')\n",
    "plt.xlabel(\"r (kpc)\")\n",
    "plt.ylabel('V (km/s)')\n",
    "plt.title(\"The measured rotational speed of the interstellar medium as a fucntion of the galactocentric radius (reference 2)\")\n",
    "xplot = [5+5*i for i in range(40)]\n",
    "plt.semilogx(xplot,model_NFW(p_ref2, xplot))   # use semilogx !!!\n",
    "plt.show()\n",
    "\n",
    "fig = corner.corner(result_ref2.samples, weights=result_ref2.weights, labels=['a', 'rho0'],\n",
    "                    range=[0.99999, 0.99999], bins=30)\n",
    "plt.show()"
   ]
  },
  {
   "cell_type": "code",
   "execution_count": 10,
   "metadata": {
    "collapsed": true
   },
   "outputs": [],
   "source": [
    "# Define the model we use to describe the data.\n",
    "\n",
    "def model_ISO(theta, x):\n",
    "    \n",
    "    # Calculate the mass between 0 and data_x by integrating the NFW distribution.\n",
    "    #\n",
    "    # Note: the mass defined here does not include the normalization constant rho0 (kg/kpc^3).\n",
    "    # The units of a are kpc.\n",
    "    # The units of the \"mass\" calculated here are thus kpc^3.\n",
    "    a = theta[0]\n",
    "    mass = 4.*np.pi*(a**3)*(x/a - np.arctan(x/a))\n",
    "        \n",
    "    # Calculate the rotation velocity: vrot = theta[1]*sqrt(mass/x)\n",
    "    # The units of sqrt(mass/x) are kpc.\n",
    "    # The rotation velocity is equal to sqrt(G*rho0)*sqrt((M/rho0)/x) where M is the mass enclosed, \n",
    "    # rho0 is the normalization constant of the mass distribution, and x is the distance at which we\n",
    "    # calculate vrot.\n",
    "    # When we determine theta[1], we determine sqrt(G*rho0).\n",
    "    # The units of vrot are km/s.\n",
    "    # The units of sqrt(mass/x) are kpc.\n",
    "    # The units of theta[1] are thus (km/s)/kpc = (10^3 m)/s/(3.086E19 m) = 3.24E-17 1/s.\n",
    "    # Since theta[1] = sqrt(G*rho0) we can now determine rho0: rho0 = theta[1]^2/G.\n",
    "    # The units on the right-hand side are: (3.24E-17 1/s)^2/(m^3/(kg s^2)) = (3.24E-17)^2 kg/(m^3)\n",
    "    # To convert from kg/m^3 to kg/kpc^3, we multiply by (3.086E19)^3\n",
    "    # The normalization constant rho0 is thus (theta1[1]^2)/6.67E-11 * ((3.24E-17)^2 * (3.086E19)^3 kg/(kpc)^3 = \n",
    "    # (theta1[1]^2)*4.625E35 kg/(kpc)^3 = 2.312E5 Msun/(kpc)^3.\n",
    "    vrot = theta[1]*np.sqrt(mass/x) \n",
    "    \n",
    "    return vrot"
   ]
  },
  {
   "cell_type": "code",
   "execution_count": 11,
   "metadata": {
    "collapsed": true
   },
   "outputs": [],
   "source": [
    "# Define a likelihood function\n",
    "def loglike_ISO_ref1(theta):\n",
    "    \n",
    "    # Calculate the mass between 0 and data_x by integrating the NFW distribution.\n",
    "    a = theta[0]\n",
    "    mass = 4.*np.pi*(a**3)*(data_x_ref1/a - np.arctan(data_x_ref1/a))\n",
    "        \n",
    "    # Calculate the rotation velocity.\n",
    "    vrot = theta[1]*np.sqrt(mass/data_x_ref1) \n",
    "        \n",
    "    # The y variable is the rotational velocity.\n",
    "    y = vrot\n",
    "    \n",
    "    # Calculate chisq\n",
    "    chisq= np.sum(((data_y_ref1 - y) / data_yerr_ref1)**2)\n",
    "    return -chisq / 2.\n"
   ]
  },
  {
   "cell_type": "code",
   "execution_count": 12,
   "metadata": {
    "collapsed": true
   },
   "outputs": [],
   "source": [
    "def loglike_ISO_ref2(theta):\n",
    "    \n",
    "    # Calculate the mass between 0 and data_x by integrating the NFW distribution.\n",
    "    a = theta[0]\n",
    "    mass = 4.*np.pi*(a**3)*(data_x_ref2/a - np.arctan(data_x_ref2/a))\n",
    "        \n",
    "    # Calculate the rotation velocity.\n",
    "    vrot = theta[1]*np.sqrt(mass/data_x_ref2) \n",
    "        \n",
    "    # The y variable is the rotational velocity.\n",
    "    y = vrot\n",
    "    \n",
    "    # Calculate chisq\n",
    "    chisq= np.sum(((data_y_ref2 - y) / data_yerr_ref2)**2)\n",
    "    return -chisq / 2.\n",
    "\n"
   ]
  },
  {
   "cell_type": "code",
   "execution_count": 13,
   "metadata": {
    "collapsed": true
   },
   "outputs": [],
   "source": [
    "# It is a transformation from a space where variables are independently and uniformly distributed between 0 and 1 to the parameter space of interest. \n",
    "# \n",
    "\n",
    "def prior_transform_ISO(theta):\n",
    "    \n",
    "    # theta[0] in the range of [0,10] and theta[1] in the range of [0,300]\n",
    "    return  np.array([5, 1000]) * theta\n",
    "\n"
   ]
  },
  {
   "cell_type": "code",
   "execution_count": 14,
   "metadata": {
    "collapsed": true
   },
   "outputs": [],
   "source": [
    "# Define the model we use to describe the data.\n",
    "# The Einasto model.\n",
    "\n",
    "#\n",
    "# Start with defining the Einasto desity function.\n",
    "\n",
    "def rho_Einasto(x,a,n):\n",
    "    \n",
    "    # Calculate the Einasto density.\n",
    "    # The units of a are kpc.\n",
    "    # n is dimensionless\n",
    "    # The units of x are kpc.\n",
    "    \n",
    "    # Calculate the density.\n",
    "    rho = np.exp(-2.*n*(x/a)**(1./n) - 1.)\n",
    "\n",
    "    # Return the density\n",
    "    return rho\n",
    "\n",
    "\n",
    "def integrand_Einasto(x,a,n):\n",
    "    \n",
    "    # Calculate the integrand for mass integration.\n",
    "    # This is x**2 * rho\n",
    "    \n",
    "    # Calculate the density.\n",
    "    rho = rho_Einasto(x,a,n)\n",
    "\n",
    "    # Return the density\n",
    "    return rho*x**2\n",
    "\n",
    "\n",
    "def mass_Einasto(theta, x):\n",
    "    \n",
    "    # Calculate the mass between 0 and data_x by integrating the Einasto distribution.\n",
    "    #\n",
    "    # Note: the mass defined here does not include the normalization constant rho0 (kg/kpc^3).\n",
    "    # The units of a are kpc.\n",
    "    # n is dimensionless\n",
    "    # The units of the \"mass\" calculated here are thus kpc^3.\n",
    "    a = theta[0]\n",
    "    n = theta[1]\n",
    "    \n",
    "    mass, err = quad(integrand_Einasto,0,x,args=(a,n))\n",
    "    mass = 4.*np.pi*mass\n",
    "        \n",
    "    return mass\n",
    "\n",
    "\n",
    "def model_Einasto(theta, x):\n",
    "    \n",
    "    # Calculate the mass between 0 and data_x by integrating the Einasto distribution.\n",
    "    #\n",
    "    # Note: the mass defined here does not include the normalization constant rho0 (kg/kpc^3).\n",
    "    # The units of a are kpc.\n",
    "    # n is dimensionless\n",
    "    # The units of the \"mass\" calculated here are thus kpc^3.\n",
    "    a = theta[0]\n",
    "    n = theta[1]\n",
    "    \n",
    "    mass, err = quad(integrand_Einasto,0,x,args=(a,n))\n",
    "    mass = 4.*np.pi*mass\n",
    "        \n",
    "    # Calculate the rotation velocity: vrot = theta[1]*sqrt(mass/x)\n",
    "    # The units of sqrt(mass/x) are kpc.\n",
    "    # The rotation velocity is equal to sqrt(G*rho0)*sqrt((M/rho0)/x) where M is the mass enclosed, \n",
    "    # rho0 is the normalization constant of the mass distribution, and x is the distance at which we\n",
    "    # calculate vrot.\n",
    "    # When we determine theta[1], we determine sqrt(G*rho0).\n",
    "    # The units of vrot are km/s.\n",
    "    # The units of sqrt(mass/x) are kpc.\n",
    "    # The units of theta[1] are thus (km/s)/kpc = (10^3 m)/s/(3.086E19 m) = 3.24E-17 1/s.\n",
    "    # Since theta[1] = sqrt(G*rho0) we can now determine rho0: rho0 = theta[1]^2/G.\n",
    "    # The units on the right-hand side are: (3.24E-17 1/s)^2/(m^3/(kg s^2)) = (3.24E-17)^2 kg/(m^3)\n",
    "    # To convert from kg/m^3 to kg/kpc^3, we multiply by (3.086E19)^3\n",
    "    # The normalization constant rho0 is thus (theta1[1]^2)/6.67E-11 * ((3.24E-17)^2 * (3.086E19)^3 kg/(kpc)^3 = \n",
    "    # (theta1[1]^2)*4.625E35 kg/(kpc)^3 = 2.312E5 Msun/(kpc)^3.\n",
    "    vrot = theta[2]*np.sqrt(mass/x) \n",
    "    \n",
    "    return vrot"
   ]
  },
  {
   "cell_type": "code",
   "execution_count": 15,
   "metadata": {
    "collapsed": true
   },
   "outputs": [],
   "source": [
    "# Define a likelihood function\n",
    "def loglike_Einasto_ref1(theta):\n",
    "    \n",
    "    # Calculate the mass between 0 and data_x by integrating the Einasto distribution.\n",
    "    a = theta[0]\n",
    "    n = theta[1]\n",
    "    \n",
    "    #mass = np.array([])\n",
    "    chisq = 0.\n",
    "    \n",
    "    for index in range(len(data_x_ref1)):\n",
    "        #np.append(mass,mass_Einasto(theta,data_x_ref1[index]))\n",
    "        mass = mass_Einasto(theta,data_x_ref1[index])\n",
    "        vrot = theta[2]*np.sqrt(mass/data_x_ref1[index]) \n",
    "        y = vrot\n",
    "        chisq = chisq + ((data_y_ref1[index] - y) / data_yerr_ref1[index])**2\n",
    "        \n",
    "    # Calculate the rotation velocity.\n",
    "    #vrot = theta[2]*np.sqrt(mass/data_x_ref1) \n",
    "        \n",
    "    # The y variable is the rotational velocity.\n",
    "    #y = vrot\n",
    "    \n",
    "    # Calculate chisq\n",
    "    #chisq= np.sum(((data_y_ref1 - y) / data_yerr_ref1)**2)\n",
    "    return -chisq / 2.\n",
    "\n"
   ]
  },
  {
   "cell_type": "code",
   "execution_count": 16,
   "metadata": {
    "collapsed": false
   },
   "outputs": [
    {
     "ename": "TypeError",
     "evalue": "bad operand type for abs(): 'tuple'",
     "output_type": "error",
     "traceback": [
      "\u001b[0;31m---------------------------------------------------------------------------\u001b[0m",
      "\u001b[0;31mTypeError\u001b[0m                                 Traceback (most recent call last)",
      "\u001b[0;32m<ipython-input-16-5b71a463496b>\u001b[0m in \u001b[0;36m<module>\u001b[0;34m()\u001b[0m\n\u001b[1;32m      4\u001b[0m \u001b[0ma\u001b[0m \u001b[0;34m=\u001b[0m \u001b[0;36m2\u001b[0m\u001b[0;34m\u001b[0m\u001b[0m\n\u001b[1;32m      5\u001b[0m \u001b[0mb\u001b[0m \u001b[0;34m=\u001b[0m \u001b[0;36m1\u001b[0m\u001b[0;34m\u001b[0m\u001b[0m\n\u001b[0;32m----> 6\u001b[0;31m \u001b[0mI\u001b[0m \u001b[0;34m=\u001b[0m \u001b[0mabs\u001b[0m\u001b[0;34m(\u001b[0m\u001b[0mquad\u001b[0m\u001b[0;34m(\u001b[0m\u001b[0mintegrand_Einasto\u001b[0m\u001b[0;34m,\u001b[0m \u001b[0;36m0\u001b[0m\u001b[0;34m,\u001b[0m \u001b[0;36m5\u001b[0m\u001b[0;34m,\u001b[0m \u001b[0margs\u001b[0m\u001b[0;34m=\u001b[0m\u001b[0;34m(\u001b[0m\u001b[0ma\u001b[0m\u001b[0;34m,\u001b[0m\u001b[0mb\u001b[0m\u001b[0;34m)\u001b[0m\u001b[0;34m)\u001b[0m\u001b[0;34m)\u001b[0m\u001b[0;34m\u001b[0m\u001b[0m\n\u001b[0m\u001b[1;32m      7\u001b[0m \u001b[0mI\u001b[0m\u001b[0;34m\u001b[0m\u001b[0m\n",
      "\u001b[0;31mTypeError\u001b[0m: bad operand type for abs(): 'tuple'"
     ]
    }
   ],
   "source": [
    "def integrand(x, a, b):\n",
    "    return a*x**2 + b\n",
    "\n",
    "a = 2\n",
    "b = 1\n",
    "I = abs(quad(integrand_Einasto, 0, 5, args=(a,b)))\n",
    "I\n"
   ]
  },
  {
   "cell_type": "code",
   "execution_count": null,
   "metadata": {
    "collapsed": true
   },
   "outputs": [],
   "source": [
    "# It is a transformation from a space where variables are independently and uniformly distributed between 0 and 1 to the parameter space of interest. \n",
    "# \n",
    "\n",
    "def prior_transform_Einasto(theta):\n",
    "    \n",
    "    # theta[0] in the range of [0,10] and theta[1] in the range of [0,300]\n",
    "    return  np.array([5, 10, 1000]) * theta\n",
    "\n",
    "\n"
   ]
  },
  {
   "cell_type": "markdown",
   "metadata": {},
   "source": [
    "Therefore, we can calculated the posterior $ p(M|D,I) = \\frac{p(M|I) p(D|M, I)}{p(D|I)} $ and compare the posterior by MCMC and/or Nestle to do model comparison. \n",
    "\n",
    "By using the Nestle package, it will give us log evidence, numerical (sampling) error on logz, array of sample parameters, array of weights associated with each sampleand result.weights. "
   ]
  },
  {
   "cell_type": "code",
   "execution_count": null,
   "metadata": {
    "collapsed": false
   },
   "outputs": [],
   "source": [
    "# Run nested sampling.\n",
    "# Start with the NFW distribution\n",
    "\n",
    "# Start with reference 1\n",
    "\n",
    "result_NFW_ref1 = nestle.sample(loglike_NFW_ref1, prior_transform_NFW, 2)\n",
    "\n",
    "print ('Number of iterations')\n",
    "print (result_NFW_ref1.niter)\n",
    "\n",
    "print ('log evidence')\n",
    "print (result_NFW_ref1.logz)\n",
    "\n",
    "print ('numerical (sampling) error on logz')\n",
    "print (result_NFW_ref1.logzerr)   \n",
    "       \n",
    "print ('array of sample parameters')\n",
    "print (result_NFW_ref1.samples)  \n",
    "       \n",
    "print ('array of weights associated with each sample')\n",
    "print (result_NFW_ref1.weights)\n",
    "\n",
    "# Continue with reference 2\n",
    "\n",
    "result_NFW_ref2 = nestle.sample(loglike_NFW_ref2, prior_transform_NFW, 2)\n",
    "\n",
    "print ('Number of iterations')\n",
    "print (result_NFW_ref2.niter)\n",
    "\n",
    "print ('log evidence')\n",
    "print (result_NFW_ref2.logz)\n",
    "\n",
    "print ('numerical (sampling) error on logz')\n",
    "print (result_NFW_ref2.logzerr)   \n",
    "       \n",
    "print ('array of sample parameters')\n",
    "print (result_NFW_ref2.samples)  \n",
    "       \n",
    "print ('array of weights associated with each sample')\n",
    "print (result_NFW_ref2.weights)\n"
   ]
  },
  {
   "cell_type": "code",
   "execution_count": null,
   "metadata": {
    "collapsed": false
   },
   "outputs": [],
   "source": [
    "# Run nested sampling.\n",
    "# Start with the ISO distribution\n",
    "\n",
    "# Start with reference 1\n",
    "\n",
    "result_ISO_ref1 = nestle.sample(loglike_ISO_ref1, prior_transform_ISO, 2)\n",
    "\n",
    "print ('Number of iterations')\n",
    "print (result_ISO_ref1.niter)\n",
    "\n",
    "print ('log evidence')\n",
    "print (result_ISO_ref1.logz)\n",
    "\n",
    "print ('numerical (sampling) error on logz')\n",
    "print (result_ISO_ref1.logzerr)   \n",
    "       \n",
    "print ('array of sample parameters')\n",
    "print (result_ISO_ref1.samples)  \n",
    "       \n",
    "print ('array of weights associated with each sample')\n",
    "print (result_ISO_ref1.weights)\n",
    "\n",
    "# Continue with reference 2\n",
    "\n",
    "result_ISO_ref2 = nestle.sample(loglike_ISO_ref2, prior_transform_ISO, 2)\n",
    "\n",
    "print ('Number of iterations')\n",
    "print (result_ISO_ref2.niter)\n",
    "\n",
    "print ('log evidence')\n",
    "print (result_ISO_ref2.logz)\n",
    "\n",
    "print ('numerical (sampling) error on logz')\n",
    "print (result_ISO_ref2.logzerr)   \n",
    "       \n",
    "print ('array of sample parameters')\n",
    "print (result_ISO_ref2.samples)  \n",
    "       \n",
    "print ('array of weights associated with each sample')\n",
    "print (result_ISO_ref2.weights)\n",
    "\n"
   ]
  },
  {
   "cell_type": "code",
   "execution_count": null,
   "metadata": {
    "collapsed": false
   },
   "outputs": [],
   "source": [
    "data_xerr = 0\n",
    "\n",
    "# Analyze the results of fits with the NFW model.\n",
    "#\n",
    "# Get the results of the fit and the uncertainties in the fit parameters.\n",
    "p_NFW_ref1, cov_NFW_ref1 = nestle.mean_and_cov(result_NFW_ref1.samples, result_NFW_ref1.weights)\n",
    "p_NFW_ref2, cov_NFW_ref2 = nestle.mean_and_cov(result_NFW_ref2.samples, result_NFW_ref2.weights)\n",
    "\n",
    "# Start with printing the results of the fit based on the data from reference 1\n",
    "print(\"Results based on fits to the data from reference 1:\")\n",
    "print(\"Core radius a = {0:5.2f} +/- {1:5.2f} kpc\".format(p_NFW_ref1[0], np.sqrt(cov_NFW_ref1[0, 0])))\n",
    "print(\"Normalization factor = {0:5.2f} +/- {1:5.2f}\".format(p_NFW_ref1[1], np.sqrt(cov_NFW_ref1[1, 1])))\n",
    "print(\"Halo density normalization constant = {0:5.2e} +/- {1:5.2e} Msun/kpc^3\".format(2.312E5*p_NFW_ref1[1], \n",
    "                                                                                      2.312E5*np.sqrt(cov_NFW_ref1[1, 1])))\n",
    "\n",
    "# Note: in order to convert the model to units of Msun/kpc^3 we multiply its value by 2.312E5.\n",
    "# See comments in the model definition for details.\n",
    "print(\"Halo density in our solor system = {0:5.2e} Msun/kpc^3.\".format(2.312E5*model_NFW(p_NFW_ref1, 8)))\n",
    "\n",
    "# Note: 1 Msun/kpc^3 = 3.817E-2 (GeV/c^2)/m^3 = 3.817E-5 (GeV/c^2)/(dm^3)\n",
    "# 1 dm^3 = 1 liter.\n",
    "# 3 WIMPS/liter would be 300 GeV/c^2/liter\n",
    "print(\"Halo density in our solor system = {0:5.2e} GeV/c^2/liter.\".format(3.817E-5*2.312E5*model_NFW(p_NFW_ref1, 8)))\n",
    "\n",
    "plt.figure()\n",
    "plt.errorbar(data_x_ref1,data_y_ref1,xerr=data_xerr,yerr=data_yerr_ref1,fmt='*')\n",
    "plt.xlabel(\"r (kpc)\")\n",
    "plt.ylabel('V (km/s)')\n",
    "plt.title(\"The measured rotational speed of the interstellar medium as a fucntion of the galactocentric radius (reference 1)\")\n",
    "xplot = [5+5*i for i in range(40)]\n",
    "plt.plot(xplot,model_NFW(p_NFW_ref1, xplot))\n",
    "plt.show()\n",
    "\n",
    "fig = corner.corner(result_NFW_ref1.samples, weights=result_NFW_ref1.weights, labels=['a', 'rho0'],\n",
    "                    range=[0.99999, 0.99999], bins=30)\n",
    "plt.show()\n",
    "\n",
    "\n",
    "# Continue with printing the results of the fit based on the data from reference 2\n",
    "print(\"Results based on fits to the data from reference 1:\")\n",
    "print(\"Core radius a = {0:5.2f} +/- {1:5.2f} kpc\".format(p_NFW_ref2[0], np.sqrt(cov_NFW_ref2[0, 0])))\n",
    "print(\"Normalization factor = {0:5.2f} +/- {1:5.2f}\".format(p_NFW_ref2[1], np.sqrt(cov_NFW_ref2[1, 1])))\n",
    "print(\"Halo density normalization constant = {0:5.2e} +/- {1:5.2e} Msun/kpc^3\".format(2.312E5*p_NFW_ref2[1], \n",
    "                                                                                      2.312E5*np.sqrt(cov_NFW_ref2[1, 1])))\n",
    "\n",
    "# Note: in order to convert the model to units of Msun/kpc^3 we multiply its value by 2.312E5.\n",
    "# See comments in the model definition for details.\n",
    "print(\"Halo density in our solor system = {0:5.2e} Msun/kpc^3.\".format(2.312E5*model_NFW(p_NFW_ref2, 8)))\n",
    "\n",
    "# Note: 1 Msun/kpc^3 = 3.817E-2 (GeV/c^2)/m^3 = 3.817E-5 (GeV/c^2)/(dm^3)\n",
    "# 1 dm^3 = 1 liter.\n",
    "# 3 WIMPS/liter would be 300 GeV/c^2/liter\n",
    "print(\"Halo density in our solor system = {0:5.2e} GeV/c^2/liter.\".format(3.817E-5*2.312E5*model_NFW(p_NFW_ref2, 8)))\n",
    "\n",
    "plt.figure()\n",
    "plt.errorbar(data_x_ref2,data_y_ref2,xerr=data_xerr,yerr=data_yerr_ref2,fmt='*')\n",
    "plt.xlabel(\"r (kpc)\")\n",
    "plt.ylabel('V (km/s)')\n",
    "plt.title(\"The measured rotational speed of the interstellar medium as a fucntion of the galactocentric radius (reference 2)\")\n",
    "xplot = [5+5*i for i in range(40)]\n",
    "plt.plot(xplot,model_NFW(p_NFW_ref2, xplot))\n",
    "plt.show()\n",
    "\n",
    "fig = corner.corner(result_NFW_ref2.samples, weights=result_NFW_ref2.weights, labels=['a', 'rho0'],\n",
    "                    range=[0.99999, 0.99999], bins=30)\n",
    "plt.show()"
   ]
  },
  {
   "cell_type": "code",
   "execution_count": null,
   "metadata": {
    "collapsed": false
   },
   "outputs": [],
   "source": [
    "data_xerr = 0\n",
    "\n",
    "# Analyze the results of fits with the ISO model.\n",
    "#\n",
    "# Get the results of the fit and the uncertainties in the fit parameters.\n",
    "p_ISO_ref1, cov_ISO_ref1 = nestle.mean_and_cov(result_ISO_ref1.samples, result_ISO_ref1.weights)\n",
    "p_ISO_ref2, cov_ISO_ref2 = nestle.mean_and_cov(result_ISO_ref2.samples, result_ISO_ref2.weights)\n",
    "\n",
    "# Start with printing the results of the fit based on the data from reference 1\n",
    "print(\"Results based on fits to the data from reference 1:\")\n",
    "print(\"Core radius a = {0:5.2f} +/- {1:5.2f} kpc\".format(p_ISO_ref1[0], np.sqrt(cov_ISO_ref1[0, 0])))\n",
    "print(\"Normalization factor = {0:5.2f} +/- {1:5.2f}\".format(p_ISO_ref1[1], np.sqrt(cov_ISO_ref1[1, 1])))\n",
    "print(\"Halo density normalization constant = {0:5.2e} +/- {1:5.2e} Msun/kpc^3\".format(2.312E5*p_ISO_ref1[1], \n",
    "                                                                                      2.312E5*np.sqrt(cov_ISO_ref1[1, 1])))\n",
    "\n",
    "# Note: in order to convert the model to units of Msun/kpc^3 we multiply its value by 2.312E5.\n",
    "# See comments in the model definition for details.\n",
    "print(\"Halo density in our solor system = {0:5.2e} Msun/kpc^3.\".format(2.312E5*model_ISO(p_ISO_ref1, 8)))\n",
    "\n",
    "# Note: 1 Msun/kpc^3 = 3.817E-2 (GeV/c^2)/m^3 = 3.817E-5 (GeV/c^2)/(dm^3)\n",
    "# 1 dm^3 = 1 liter.\n",
    "# 3 WIMPS/liter would be 300 GeV/c^2/liter\n",
    "print(\"Halo density in our solor system = {0:5.2e} GeV/c^2/liter.\".format(3.817E-5*2.312E5*model_ISO(p_ISO_ref1, 8)))\n",
    "\n",
    "plt.figure()\n",
    "plt.errorbar(data_x_ref1,data_y_ref1,xerr=data_xerr,yerr=data_yerr_ref1,fmt='*')\n",
    "plt.xlabel(\"r (kpc)\")\n",
    "plt.ylabel('V (km/s)')\n",
    "plt.title(\"The measured rotational speed of the interstellar medium as a fucntion of the galactocentric radius (reference 1)\")\n",
    "xplot = [5+5*i for i in range(40)]\n",
    "plt.plot(xplot,model_ISO(p_ISO_ref1, xplot))\n",
    "plt.show()\n",
    "\n",
    "fig = corner.corner(result_ISO_ref1.samples, weights=result_ISO_ref1.weights, labels=['a', 'rho0'],\n",
    "                    range=[0.99999, 0.99999], bins=30)\n",
    "plt.show()\n",
    "\n",
    "\n",
    "# Continue with printing the results of the fit based on the data from reference 2\n",
    "print(\"Results based on fits to the data from reference 1:\")\n",
    "print(\"Core radius a = {0:5.2f} +/- {1:5.2f} kpc\".format(p_ISO_ref2[0], np.sqrt(cov_ISO_ref2[0, 0])))\n",
    "print(\"Normalization factor = {0:5.2f} +/- {1:5.2f}\".format(p_ISO_ref2[1], np.sqrt(cov_ISO_ref2[1, 1])))\n",
    "print(\"Halo density normalization constant = {0:5.2e} +/- {1:5.2e} Msun/kpc^3\".format(2.312E5*p_ISO_ref2[1], \n",
    "                                                                                      2.312E5*np.sqrt(cov_ISO_ref2[1, 1])))\n",
    "\n",
    "# Note: in order to convert the model to units of Msun/kpc^3 we multiply its value by 2.312E5.\n",
    "# See comments in the model definition for details.\n",
    "print(\"Halo density in our solor system = {0:5.2e} Msun/kpc^3.\".format(2.312E5*model_ISO(p_ISO_ref2, 8)))\n",
    "\n",
    "# Note: 1 Msun/kpc^3 = 3.817E-2 (GeV/c^2)/m^3 = 3.817E-5 (GeV/c^2)/(dm^3)\n",
    "# 1 dm^3 = 1 liter.\n",
    "# 3 WIMPS/liter would be 300 GeV/c^2/liter\n",
    "print(\"Halo density in our solor system = {0:5.2e} GeV/c^2/liter.\".format(3.817E-5*2.312E5*model_ISO(p_ISO_ref2, 8)))\n",
    "\n",
    "plt.figure()\n",
    "plt.errorbar(data_x_ref2,data_y_ref2,xerr=data_xerr,yerr=data_yerr_ref2,fmt='*')\n",
    "plt.xlabel(\"r (kpc)\")\n",
    "plt.ylabel('V (km/s)')\n",
    "plt.title(\"The measured rotational speed of the interstellar medium as a fucntion of the galactocentric radius (reference 2)\")\n",
    "xplot = [5+5*i for i in range(40)]\n",
    "plt.plot(xplot,model_ISO(p_ISO_ref2, xplot))\n",
    "plt.show()\n",
    "\n",
    "fig = corner.corner(result_ISO_ref2.samples, weights=result_ISO_ref2.weights, labels=['a', 'rho0'],\n",
    "                    range=[0.99999, 0.99999], bins=30)\n",
    "plt.show()"
   ]
  },
  {
   "cell_type": "code",
   "execution_count": null,
   "metadata": {
    "collapsed": false,
    "scrolled": true
   },
   "outputs": [],
   "source": [
    "# Run nested sampling.\n",
    "# Start with the Einasto distribution\n",
    "\n",
    "# Start with reference 1\n",
    "\n",
    "result_Einasto_ref1 = nestle.sample(loglike_Einasto_ref1, prior_transform_Einasto, 3)\n",
    "\n",
    "print ('Number of iterations')\n",
    "print (result_Einasto_ref1.niter)\n",
    "\n",
    "print ('log evidence')\n",
    "print (result_Einasto_ref1.logz)\n",
    "\n",
    "print ('numerical (sampling) error on logz')\n",
    "print (result_Einasto_ref1.logzerr)   \n",
    "       \n",
    "print ('array of sample parameters')\n",
    "print (result_Einasto_ref1.samples)  \n",
    "       \n",
    "print ('array of weights associated with each sample')\n",
    "print (result_Einasto_ref1.weights)\n",
    "\n",
    "# Continue with reference 2\n",
    "\n",
    "result_Einasto_ref2 = nestle.sample(loglike_Einasto_ref2, prior_transform_Einasto, 3)\n",
    "\n",
    "print ('Number of iterations')\n",
    "print (result_Einasto_ref2.niter)\n",
    "\n",
    "print ('log evidence')\n",
    "print (result_Einasto_ref2.logz)\n",
    "\n",
    "print ('numerical (sampling) error on logz')\n",
    "print (result_Einasto_ref2.logzerr)   \n",
    "       \n",
    "print ('array of sample parameters')\n",
    "print (result_Einasto_ref2.samples)  \n",
    "       \n",
    "print ('array of weights associated with each sample')\n",
    "print (result_Einasto_ref2.weights)\n",
    "\n"
   ]
  },
  {
   "cell_type": "code",
   "execution_count": null,
   "metadata": {
    "collapsed": true
   },
   "outputs": [],
   "source": [
    "\n",
    "#  to complete for later calculation \n",
    "\n",
    "def loglike_IsothermalProfile (theta):\n",
    "    #theta[1] is the constant proportional factor \n",
    "    density_IsothermalProfile =   1/( 1+data_x /theta[0] )**2 \n",
    "    y=thetha[1] * 1\n",
    "    chisq = np.sum(((data_y - y) / data_yerr)**2)\n",
    "    return -chisq / 2.\n",
    "\n",
    "def loglike_EinastoProfile(theta):\n",
    "    #theta[2] is the constant proportional factor \n",
    "    lensity_EinastoProfile = np.exp( -  theta[0]*  data_x**theta[1] ) \n",
    "    y=theta[2] *1\n",
    "    chisq = np.sum(((data_y - y) / data_yerr)**2)\n",
    "    return -chisq / 2.\n",
    "\n",
    "def loglike_GeneralizedDMProfile(theta):\n",
    "    #theta[4] is the constant proportional factor \n",
    "\n",
    "    lensity_GeneralizedDMProfile = 1/(    (data_x /theta[0])**theta[1] *( 1+ (data_x /theta[0])**theta[2] )**2 ) **((theta[3] - theta[1])/theta[2] )\n",
    "    y=theta[4] * 1\n",
    "    chisq = np.sum(((data_y - y) / data_yerr)**2)\n",
    "    return -chisq / 2.\n",
    "\n",
    "\n",
    "\n"
   ]
  }
 ],
 "metadata": {
  "anaconda-cloud": {},
  "kernelspec": {
   "display_name": "Python [conda root]",
   "language": "python",
   "name": "conda-root-py"
  },
  "language_info": {
   "codemirror_mode": {
    "name": "ipython",
    "version": 3
   },
   "file_extension": ".py",
   "mimetype": "text/x-python",
   "name": "python",
   "nbconvert_exporter": "python",
   "pygments_lexer": "ipython3",
   "version": "3.5.2"
  }
 },
 "nbformat": 4,
 "nbformat_minor": 2
}
