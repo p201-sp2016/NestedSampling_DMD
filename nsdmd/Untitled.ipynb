{
 "cells": [
  {
   "cell_type": "code",
   "execution_count": null,
   "metadata": {
    "collapsed": true
   },
   "outputs": [],
   "source": [
    "\n",
    "        \n",
    "\n",
    "        \n",
    "        \n",
    "     \n",
    "    def test_model_NFW(self):\n",
    "        \n",
    "        theta0_range = np.linspace(6,1,10)\n",
    "        vrot=np.ones(len(theta0_range))\n",
    "        \n",
    "        for i in range(len(theta0_range)):\n",
    "            \n",
    "            theta = theta0_range[i], 10\n",
    "            vrot[i]=model.model_NFW(theta,11)\n",
    "                    \n",
    "        self.assertTrue(np.argmax(vrot)>-1000)\n",
    "        \n",
    "        \n",
    "\n"
   ]
  }
 ],
 "metadata": {
  "kernelspec": {
   "display_name": "Python [conda root]",
   "language": "python",
   "name": "conda-root-py"
  },
  "language_info": {
   "codemirror_mode": {
    "name": "ipython",
    "version": 3
   },
   "file_extension": ".py",
   "mimetype": "text/x-python",
   "name": "python",
   "nbconvert_exporter": "python",
   "pygments_lexer": "ipython3",
   "version": "3.5.2"
  }
 },
 "nbformat": 4,
 "nbformat_minor": 1
}
